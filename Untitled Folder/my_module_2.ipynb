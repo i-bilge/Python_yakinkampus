{
 "cells": [
  {
   "cell_type": "code",
   "execution_count": 1,
   "id": "eaf69ea6",
   "metadata": {},
   "outputs": [],
   "source": [
    "\"\"\"\n",
    "This is my 2nd module\n",
    "\"\"\"\n",
    "\n",
    "def hello(variable):\n",
    "    print(\"hello\", variable)\n",
    "    \n",
    "print(\"hello world\")"
   ]
  }
 ],
 "metadata": {
  "kernelspec": {
   "display_name": "Python 3 (ipykernel)",
   "language": "python",
   "name": "python3"
  },
  "language_info": {
   "codemirror_mode": {
    "name": "ipython",
    "version": 3
   },
   "file_extension": ".py",
   "mimetype": "text/x-python",
   "name": "python",
   "nbconvert_exporter": "python",
   "pygments_lexer": "ipython3",
   "version": "3.9.7"
  }
 },
 "nbformat": 4,
 "nbformat_minor": 5
}
