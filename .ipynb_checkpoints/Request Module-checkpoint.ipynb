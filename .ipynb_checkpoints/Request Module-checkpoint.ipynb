{
 "cells": [
  {
   "cell_type": "code",
   "execution_count": 2,
   "id": "fd8159a0",
   "metadata": {},
   "outputs": [],
   "source": [
    "import requests"
   ]
  },
  {
   "cell_type": "code",
   "execution_count": 4,
   "id": "fc98e373",
   "metadata": {},
   "outputs": [],
   "source": [
    "bolgeler_URL = \"https://data.police.uk/api/forces\"\n",
    "response = requests.get(bolgeler_URL)"
   ]
  },
  {
   "cell_type": "code",
   "execution_count": 6,
   "id": "b483c7ac",
   "metadata": {},
   "outputs": [
    {
     "data": {
      "text/plain": [
       "[{'id': 'avon-and-somerset', 'name': 'Avon and Somerset Constabulary'},\n",
       " {'id': 'bedfordshire', 'name': 'Bedfordshire Police'},\n",
       " {'id': 'cambridgeshire', 'name': 'Cambridgeshire Constabulary'},\n",
       " {'id': 'cheshire', 'name': 'Cheshire Constabulary'},\n",
       " {'id': 'city-of-london', 'name': 'City of London Police'},\n",
       " {'id': 'cleveland', 'name': 'Cleveland Police'},\n",
       " {'id': 'cumbria', 'name': 'Cumbria Constabulary'},\n",
       " {'id': 'derbyshire', 'name': 'Derbyshire Constabulary'},\n",
       " {'id': 'devon-and-cornwall', 'name': 'Devon & Cornwall Police'},\n",
       " {'id': 'dorset', 'name': 'Dorset Police'},\n",
       " {'id': 'durham', 'name': 'Durham Constabulary'},\n",
       " {'id': 'dyfed-powys', 'name': 'Dyfed-Powys Police'},\n",
       " {'id': 'essex', 'name': 'Essex Police'},\n",
       " {'id': 'gloucestershire', 'name': 'Gloucestershire Constabulary'},\n",
       " {'id': 'greater-manchester', 'name': 'Greater Manchester Police'},\n",
       " {'id': 'gwent', 'name': 'Gwent Police'},\n",
       " {'id': 'hampshire', 'name': 'Hampshire Constabulary'},\n",
       " {'id': 'hertfordshire', 'name': 'Hertfordshire Constabulary'},\n",
       " {'id': 'humberside', 'name': 'Humberside Police'},\n",
       " {'id': 'kent', 'name': 'Kent Police'},\n",
       " {'id': 'lancashire', 'name': 'Lancashire Constabulary'},\n",
       " {'id': 'leicestershire', 'name': 'Leicestershire Police'},\n",
       " {'id': 'lincolnshire', 'name': 'Lincolnshire Police'},\n",
       " {'id': 'merseyside', 'name': 'Merseyside Police'},\n",
       " {'id': 'metropolitan', 'name': 'Metropolitan Police Service'},\n",
       " {'id': 'norfolk', 'name': 'Norfolk Constabulary'},\n",
       " {'id': 'north-wales', 'name': 'North Wales Police'},\n",
       " {'id': 'north-yorkshire', 'name': 'North Yorkshire Police'},\n",
       " {'id': 'northamptonshire', 'name': 'Northamptonshire Police'},\n",
       " {'id': 'northumbria', 'name': 'Northumbria Police'},\n",
       " {'id': 'nottinghamshire', 'name': 'Nottinghamshire Police'},\n",
       " {'id': 'northern-ireland', 'name': 'Police Service of Northern Ireland'},\n",
       " {'id': 'south-wales', 'name': 'South Wales Police'},\n",
       " {'id': 'south-yorkshire', 'name': 'South Yorkshire Police'},\n",
       " {'id': 'staffordshire', 'name': 'Staffordshire Police'},\n",
       " {'id': 'suffolk', 'name': 'Suffolk Constabulary'},\n",
       " {'id': 'surrey', 'name': 'Surrey Police'},\n",
       " {'id': 'sussex', 'name': 'Sussex Police'},\n",
       " {'id': 'thames-valley', 'name': 'Thames Valley Police'},\n",
       " {'id': 'warwickshire', 'name': 'Warwickshire Police'},\n",
       " {'id': 'west-mercia', 'name': 'West Mercia Police'},\n",
       " {'id': 'west-midlands', 'name': 'West Midlands Police'},\n",
       " {'id': 'west-yorkshire', 'name': 'West Yorkshire Police'},\n",
       " {'id': 'wiltshire', 'name': 'Wiltshire Police'}]"
      ]
     },
     "execution_count": 6,
     "metadata": {},
     "output_type": "execute_result"
    }
   ],
   "source": [
    "response.json()"
   ]
  },
  {
   "cell_type": "code",
   "execution_count": 10,
   "id": "68c075d5",
   "metadata": {},
   "outputs": [],
   "source": [
    "#simdi parametre alan bir linki yapalim.(? varsa aliyor demek)\n",
    "#https://data.police.uk/api/crime-categories?date=2011-08\n",
    "\n",
    "suc_kategorileri_URL = \"https://data.police.uk/api/crime-categories\"\n",
    "payload = {\"date\": \"2022-03\"}\n",
    "response = requests.get(suc_kategorileri_URL, params=payload)"
   ]
  },
  {
   "cell_type": "code",
   "execution_count": 12,
   "id": "42e3ed3f",
   "metadata": {},
   "outputs": [
    {
     "data": {
      "text/plain": [
       "[{'url': 'all-crime', 'name': 'All crime'},\n",
       " {'url': 'anti-social-behaviour', 'name': 'Anti-social behaviour'},\n",
       " {'url': 'bicycle-theft', 'name': 'Bicycle theft'},\n",
       " {'url': 'burglary', 'name': 'Burglary'},\n",
       " {'url': 'criminal-damage-arson', 'name': 'Criminal damage and arson'},\n",
       " {'url': 'drugs', 'name': 'Drugs'},\n",
       " {'url': 'other-theft', 'name': 'Other theft'},\n",
       " {'url': 'possession-of-weapons', 'name': 'Possession of weapons'},\n",
       " {'url': 'public-order', 'name': 'Public order'},\n",
       " {'url': 'robbery', 'name': 'Robbery'},\n",
       " {'url': 'shoplifting', 'name': 'Shoplifting'},\n",
       " {'url': 'theft-from-the-person', 'name': 'Theft from the person'},\n",
       " {'url': 'vehicle-crime', 'name': 'Vehicle crime'},\n",
       " {'url': 'violent-crime', 'name': 'Violence and sexual offences'},\n",
       " {'url': 'other-crime', 'name': 'Other crime'}]"
      ]
     },
     "execution_count": 12,
     "metadata": {},
     "output_type": "execute_result"
    }
   ],
   "source": [
    "response.json() #bu sekilde 3 aydaki suclari görürüm"
   ]
  },
  {
   "cell_type": "code",
   "execution_count": 26,
   "id": "f2b2399e",
   "metadata": {},
   "outputs": [],
   "source": [
    "class SucRaporu():\n",
    "    def __init__(self, bolge, tarih, suc_tipi=\"all-crime\"):\n",
    "        self.bolge = bolge\n",
    "        self.tarih = tarih\n",
    "        self.suc_tipi = suc_tipi\n",
    "        self.suclar = self.suclari_bul()\n",
    "        \n",
    "    def suclari_bul(self):\n",
    "        suc_URL = \"https://data.police.uk/api/crime-no-location\"\n",
    "        \n",
    "        payload = {\n",
    "            \"category\": \"all-crime\",\n",
    "            \"force\": \"city-of-london\",\n",
    "            \"date\": \"2022-01\"\n",
    "        }\n",
    "        response = requests.get(suc_URL, params=payload)\n",
    "        \n",
    "        if response.status_code == 200:\n",
    "            return response.json()\n",
    "        else:\n",
    "            return None\n",
    "        \n",
    "    def suclari_raporla(self):\n",
    "        suclar_listesi = []\n",
    "        \n",
    "        if self.suclar is not None:\n",
    "            for suc in self.suclar:\n",
    "                suclar_listesi.append(suc[\"category\"])\n",
    "                \n",
    "            return suclar_listesi"
   ]
  },
  {
   "cell_type": "code",
   "execution_count": null,
   "id": "03de20f4",
   "metadata": {},
   "outputs": [],
   "source": []
  },
  {
   "cell_type": "code",
   "execution_count": 27,
   "id": "84c6ba56",
   "metadata": {},
   "outputs": [
    {
     "ename": "AttributeError",
     "evalue": "'SucRaporu' object has no attribute 'suclar'",
     "output_type": "error",
     "traceback": [
      "\u001b[1;31m---------------------------------------------------------------------------\u001b[0m",
      "\u001b[1;31mAttributeError\u001b[0m                            Traceback (most recent call last)",
      "\u001b[1;32m~\\AppData\\Local\\Temp/ipykernel_20804/1238524040.py\u001b[0m in \u001b[0;36m<module>\u001b[1;34m\u001b[0m\n\u001b[1;32m----> 1\u001b[1;33m \u001b[0msr\u001b[0m\u001b[1;33m.\u001b[0m\u001b[0msuclari_raporla\u001b[0m\u001b[1;33m(\u001b[0m\u001b[1;33m)\u001b[0m\u001b[1;33m\u001b[0m\u001b[1;33m\u001b[0m\u001b[0m\n\u001b[0m",
      "\u001b[1;32m~\\AppData\\Local\\Temp/ipykernel_20804/999038329.py\u001b[0m in \u001b[0;36msuclari_raporla\u001b[1;34m(self)\u001b[0m\n\u001b[0;32m     23\u001b[0m         \u001b[0msuclar_listesi\u001b[0m \u001b[1;33m=\u001b[0m \u001b[1;33m[\u001b[0m\u001b[1;33m]\u001b[0m\u001b[1;33m\u001b[0m\u001b[1;33m\u001b[0m\u001b[0m\n\u001b[0;32m     24\u001b[0m \u001b[1;33m\u001b[0m\u001b[0m\n\u001b[1;32m---> 25\u001b[1;33m         \u001b[1;32mif\u001b[0m \u001b[0mself\u001b[0m\u001b[1;33m.\u001b[0m\u001b[0msuclar\u001b[0m \u001b[1;32mis\u001b[0m \u001b[1;32mnot\u001b[0m \u001b[1;32mNone\u001b[0m\u001b[1;33m:\u001b[0m\u001b[1;33m\u001b[0m\u001b[1;33m\u001b[0m\u001b[0m\n\u001b[0m\u001b[0;32m     26\u001b[0m             \u001b[1;32mfor\u001b[0m \u001b[0msuc\u001b[0m \u001b[1;32min\u001b[0m \u001b[0mself\u001b[0m\u001b[1;33m.\u001b[0m\u001b[0msuclar\u001b[0m\u001b[1;33m:\u001b[0m\u001b[1;33m\u001b[0m\u001b[1;33m\u001b[0m\u001b[0m\n\u001b[0;32m     27\u001b[0m                 \u001b[0msuclar_listesi\u001b[0m\u001b[1;33m.\u001b[0m\u001b[0mappend\u001b[0m\u001b[1;33m(\u001b[0m\u001b[0msuc\u001b[0m\u001b[1;33m[\u001b[0m\u001b[1;34m\"category\"\u001b[0m\u001b[1;33m]\u001b[0m\u001b[1;33m)\u001b[0m\u001b[1;33m\u001b[0m\u001b[1;33m\u001b[0m\u001b[0m\n",
      "\u001b[1;31mAttributeError\u001b[0m: 'SucRaporu' object has no attribute 'suclar'"
     ]
    }
   ],
   "source": [
    "sr.suclari_raporla()"
   ]
  }
 ],
 "metadata": {
  "kernelspec": {
   "display_name": "Python 3 (ipykernel)",
   "language": "python",
   "name": "python3"
  },
  "language_info": {
   "codemirror_mode": {
    "name": "ipython",
    "version": 3
   },
   "file_extension": ".py",
   "mimetype": "text/x-python",
   "name": "python",
   "nbconvert_exporter": "python",
   "pygments_lexer": "ipython3",
   "version": "3.9.7"
  }
 },
 "nbformat": 4,
 "nbformat_minor": 5
}
