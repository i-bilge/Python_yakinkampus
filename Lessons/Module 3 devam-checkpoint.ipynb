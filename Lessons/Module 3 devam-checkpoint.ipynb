{
 "cells": [
  {
   "cell_type": "code",
   "execution_count": 1,
   "id": "2ce22b94",
   "metadata": {},
   "outputs": [
    {
     "name": "stdout",
     "output_type": "stream",
     "text": [
      "Bir sayi girin: 26\n"
     ]
    },
    {
     "data": {
      "text/plain": [
       "'26'"
      ]
     },
     "execution_count": 1,
     "metadata": {},
     "output_type": "execute_result"
    }
   ],
   "source": [
    "input(\"Bir sayi girin: \")"
   ]
  },
  {
   "cell_type": "code",
   "execution_count": 2,
   "id": "0c4eeea9",
   "metadata": {},
   "outputs": [
    {
     "name": "stdout",
     "output_type": "stream",
     "text": [
      "Bir sayi girin:25\n"
     ]
    },
    {
     "data": {
      "text/plain": [
       "str"
      ]
     },
     "execution_count": 2,
     "metadata": {},
     "output_type": "execute_result"
    }
   ],
   "source": [
    "girdi = input(\"Bir sayi girin:\")\n",
    "type(girdi)"
   ]
  },
  {
   "cell_type": "code",
   "execution_count": 3,
   "id": "04ebd6d8",
   "metadata": {},
   "outputs": [
    {
     "name": "stdout",
     "output_type": "stream",
     "text": [
      "Bir sayi girin: 27\n"
     ]
    },
    {
     "data": {
      "text/plain": [
       "int"
      ]
     },
     "execution_count": 3,
     "metadata": {},
     "output_type": "execute_result"
    }
   ],
   "source": [
    "girdi = input(\"Bir sayi girin: \")\n",
    "type(int(girdi))"
   ]
  },
  {
   "cell_type": "code",
   "execution_count": 8,
   "id": "bb6348db",
   "metadata": {},
   "outputs": [
    {
     "name": "stdout",
     "output_type": "stream",
     "text": [
      "Bir sayi girin:8\n",
      "Verinin tex mi, cift mi oldugunu sorgula:tek\n"
     ]
    },
    {
     "data": {
      "text/plain": [
       "'Hayir 8 tek bir sayi degildir'"
      ]
     },
     "execution_count": 8,
     "metadata": {},
     "output_type": "execute_result"
    }
   ],
   "source": [
    "def uygulama():\n",
    "    girdi = input(\"Bir sayi girin:\")\n",
    "    islem = input(\"Verinin tex mi, cift mi oldugunu sorgula:\")\n",
    "    \n",
    "    if islem =='cift':\n",
    "        if int(girdi)%2==0:\n",
    "            return 'Evet {} cift bir sayi'.format(girdi)\n",
    "        else:\n",
    "            return 'Hayir {} cift bir sayi degildir'.format(girdi)\n",
    "        \n",
    "    elif islem =='tek':\n",
    "        if int(girdi)%2==1:\n",
    "            return 'Evet {} tek bir sayi'.format(girdi)\n",
    "        else:\n",
    "            return 'Hayir {} tek bir sayi degildir'.format(girdi)\n",
    "uygulama()        "
   ]
  },
  {
   "cell_type": "code",
   "execution_count": 10,
   "id": "7cc2e30e",
   "metadata": {},
   "outputs": [],
   "source": [
    "def sayi_girdisi_kontrol():\n",
    "    girdi = input(\"bir sayi giriniz :\")\n",
    "    \n",
    "    if girdi.isdigit():\n",
    "        print(\"Tebrikler, bu bir sayi tipi\")\n",
    "    else:\n",
    "        print(\"Üzgünüm bu bir sayi degil\")"
   ]
  },
  {
   "cell_type": "code",
   "execution_count": 11,
   "id": "f3dfc12a",
   "metadata": {},
   "outputs": [
    {
     "name": "stdout",
     "output_type": "stream",
     "text": [
      "bir sayi giriniz :8\n",
      "Tebrikler, bu bir sayi tipi\n"
     ]
    }
   ],
   "source": [
    "sayi_girdisi_kontrol()"
   ]
  },
  {
   "cell_type": "code",
   "execution_count": 15,
   "id": "66ed62d9",
   "metadata": {},
   "outputs": [],
   "source": [
    "#simdi de sayi girmediginde kullaniciya tekrar sans veren bir sey yazalim\n",
    "def sayi_girdisi_kontrol_dongu():\n",
    "        girdi = input(\"bir sayi giriniz :\")\n",
    "        \n",
    "        while not girdi.isdigit():\n",
    "            print(\"Üzgünüm bu bir sayi degil\")  \n",
    "            girdi = input(\"bir sayi giriniz :\")\n",
    "            #while dögüsü False olana kadar calistirir\n",
    "        else:\n",
    "            print(\"Tebrikler, bu bir sayi tipi\")\n"
   ]
  },
  {
   "cell_type": "code",
   "execution_count": 17,
   "id": "60450c9a",
   "metadata": {},
   "outputs": [
    {
     "name": "stdout",
     "output_type": "stream",
     "text": [
      "bir sayi giriniz :ss\n",
      "Üzgünüm bu bir sayi degil\n",
      "bir sayi giriniz :2\n",
      "Tebrikler, bu bir sayi tipi\n"
     ]
    }
   ],
   "source": [
    "sayi_girdisi_kontrol_dongu()"
   ]
  },
  {
   "cell_type": "code",
   "execution_count": 35,
   "id": "0f162d3c",
   "metadata": {},
   "outputs": [],
   "source": [
    "#Bu tekrar sorma islemini sinirlandirmak istersek de bir counter tanimlariz.\n",
    "#mesela 5 kere yanlis girince biter\n",
    "def sayi_girdisi_kontrol_dongu():\n",
    "        girdi = input(\"bir sayi giriniz :\")\n",
    "        tekrar = 0\n",
    "        \n",
    "        while not girdi.isdigit():\n",
    "            tekrar = tekrar+1\n",
    "            if tekrar >= 5:\n",
    "                print(\"5 deneme hakkiniz bitti!\")\n",
    "                break\n",
    "            else:\n",
    "                print(\"Üzgünüm bu bir sayi degil\")  \n",
    "                girdi = input(\"bir sayi giriniz :\")\n",
    "            #while dögüsü False olana kadar calistirir\n",
    "\n",
    "        else:\n",
    "            print(\"Tebrikler, bu bir sayi tipi\")"
   ]
  },
  {
   "cell_type": "code",
   "execution_count": 36,
   "id": "b027c9c9",
   "metadata": {},
   "outputs": [
    {
     "name": "stdout",
     "output_type": "stream",
     "text": [
      "bir sayi giriniz :d\n",
      "Üzgünüm bu bir sayi degil\n",
      "bir sayi giriniz :f\n",
      "Üzgünüm bu bir sayi degil\n",
      "bir sayi giriniz :f\n",
      "Üzgünüm bu bir sayi degil\n",
      "bir sayi giriniz :d\n",
      "Üzgünüm bu bir sayi degil\n",
      "bir sayi giriniz :s\n",
      "5 deneme hakkiniz bitti!\n"
     ]
    }
   ],
   "source": [
    "sayi_girdisi_kontrol_dongu()"
   ]
  },
  {
   "cell_type": "code",
   "execution_count": 38,
   "id": "bf63ba4e",
   "metadata": {},
   "outputs": [],
   "source": [
    "# try hata olunca o hata olan alani ele almak, kodun tamamini durdurmamak icin kullanilir\n",
    "def tam_sayiy_cevir():\n",
    "    girdi = input(\"Bir ondalik sayi giriniz:\")\n",
    "    \n",
    "    print(\"Yuvarlama isleminin sonucu: {}\".format(round(float(girdi))))"
   ]
  },
  {
   "cell_type": "code",
   "execution_count": 39,
   "id": "96e0b83f",
   "metadata": {},
   "outputs": [
    {
     "name": "stdout",
     "output_type": "stream",
     "text": [
      "Bir ondalik sayi giriniz:1.7\n",
      "Yuvarlama isleminin sonucu: 2\n"
     ]
    }
   ],
   "source": [
    "tam_sayiy_cevir()"
   ]
  },
  {
   "cell_type": "code",
   "execution_count": 42,
   "id": "f34239b3",
   "metadata": {},
   "outputs": [],
   "source": [
    "def tam_sayiy_cevir():\n",
    "    girdi = input(\"Bir ondalik sayi giriniz:\")\n",
    "    \n",
    "    #print(\"Yuvarlama isleminin sonucu: {}\".format(round(float(girdi))))\n",
    "    \n",
    "    try:\n",
    "        girdi = float(girdi)\n",
    "        print(\"Yuvarlama isleminin sonucu: {}\".format(round(girdi)))\n",
    "    except:\n",
    "        print(\"{} girdisi ondalik tipe cevrilemiyor\".format(girdi))"
   ]
  },
  {
   "cell_type": "code",
   "execution_count": 43,
   "id": "d2792d65",
   "metadata": {},
   "outputs": [
    {
     "name": "stdout",
     "output_type": "stream",
     "text": [
      "Bir ondalik sayi giriniz:a\n",
      "a girdisi ondalik tipe cevrilemiyor\n"
     ]
    }
   ],
   "source": [
    "tam_sayiy_cevir()\n",
    "#yani try ve except kismi kodin devaminin sorunsuz devam etemsni saglar"
   ]
  },
  {
   "cell_type": "code",
   "execution_count": 44,
   "id": "201c0a43",
   "metadata": {},
   "outputs": [],
   "source": [
    "#finally de try yaptin bunu uyuguladin, except se bunu.Ama en nihayetinde de ...nu yap demek.\n",
    "def tam_sayiy_cevir():\n",
    "    girdi = input(\"Bir ondalik sayi giriniz:\")\n",
    "    \n",
    "    status = ''\n",
    "    try:\n",
    "        girdi = float(girdi)\n",
    "        print(\"Yuvarlama isleminin sonucu: {}\".format(round(girdi)))\n",
    "        status = 'sucessful'\n",
    "    except:\n",
    "        print(\"{} girdisi ondalik tipe cevrilemiyor\".format(girdi))\n",
    "        status = 'unsucess'\n",
    "    finally:\n",
    "        print(\"Tam sayiya cevirme islemi {} olarak tamamlandi\".format(status))\n",
    "        "
   ]
  },
  {
   "cell_type": "code",
   "execution_count": 45,
   "id": "209e612b",
   "metadata": {},
   "outputs": [
    {
     "name": "stdout",
     "output_type": "stream",
     "text": [
      "Bir ondalik sayi giriniz:a\n",
      "a girdisi ondalik tipe cevrilemiyor\n",
      "Tam sayiya cevirme islemi unsucess olarak tamamlandi\n"
     ]
    }
   ],
   "source": [
    "tam_sayiy_cevir()"
   ]
  }
 ],
 "metadata": {
  "kernelspec": {
   "display_name": "Python 3 (ipykernel)",
   "language": "python",
   "name": "python3"
  },
  "language_info": {
   "codemirror_mode": {
    "name": "ipython",
    "version": 3
   },
   "file_extension": ".py",
   "mimetype": "text/x-python",
   "name": "python",
   "nbconvert_exporter": "python",
   "pygments_lexer": "ipython3",
   "version": "3.9.7"
  }
 },
 "nbformat": 4,
 "nbformat_minor": 5
}
