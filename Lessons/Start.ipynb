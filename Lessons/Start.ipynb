{
 "cells": [
  {
   "cell_type": "code",
   "execution_count": 3,
   "id": "418e7e28",
   "metadata": {},
   "outputs": [
    {
     "name": "stdout",
     "output_type": "stream",
     "text": [
      "hello world \n",
      "I am new\n",
      "Benim adim \t:Ismail\n"
     ]
    }
   ],
   "source": [
    "print(\"hello world \\nI am new\")\n",
    "print(\"Benim adim \\t:Ismail\")"
   ]
  },
  {
   "cell_type": "code",
   "execution_count": 7,
   "id": "2c204117",
   "metadata": {},
   "outputs": [
    {
     "name": "stdout",
     "output_type": "stream",
     "text": [
      "Benim adim:ismail, yasim:26\n",
      "Benim adim:ismail, yasim:26\n",
      "Benim adim:Ismail, Yasim:26\n"
     ]
    }
   ],
   "source": [
    "print(\"Benim adim:{}, yasim:{}\".format(\"ismail\",26))\n",
    "print(\"Benim adim:{0}, yasim:{1}\".format(\"ismail\",26))\n",
    "\n",
    "print(\"Benim adim:{ad}, Yasim:{yas}\".format(ad=\"Ismail\",yas=26))"
   ]
  },
  {
   "cell_type": "code",
   "execution_count": 8,
   "id": "65da469e",
   "metadata": {},
   "outputs": [
    {
     "name": "stdout",
     "output_type": "stream",
     "text": [
      "10\n"
     ]
    }
   ],
   "source": [
    "sayi_ilk=10\n",
    "print(sayi_ilk)"
   ]
  },
  {
   "cell_type": "code",
   "execution_count": 9,
   "id": "d4362afe",
   "metadata": {},
   "outputs": [
    {
     "data": {
      "text/plain": [
       "int"
      ]
     },
     "execution_count": 9,
     "metadata": {},
     "output_type": "execute_result"
    }
   ],
   "source": [
    "type(3)"
   ]
  },
  {
   "cell_type": "code",
   "execution_count": 13,
   "id": "0df7e7a2",
   "metadata": {},
   "outputs": [
    {
     "name": "stdout",
     "output_type": "stream",
     "text": [
      "Python\n"
     ]
    },
    {
     "data": {
      "text/plain": [
       "6"
      ]
     },
     "execution_count": 13,
     "metadata": {},
     "output_type": "execute_result"
    }
   ],
   "source": [
    "strvar=\"Python\"\n",
    "print(strvar)\n",
    "\n",
    "strvar[-3]\n",
    "strvar[2:]\n",
    "strvar[:3]\n",
    "strvar[2:5]\n",
    "len(strvar)"
   ]
  },
  {
   "cell_type": "code",
   "execution_count": 24,
   "id": "222fafea",
   "metadata": {},
   "outputs": [
    {
     "name": "stdout",
     "output_type": "stream",
     "text": [
      "Python\n",
      "Python ogren!\n",
      "PYTHON OGREN!\n",
      "python ogren!\n",
      "['Python', 'ogren!']\n",
      "['Pyth', 'n ', 'gren!']\n",
      "['Pyth', 'n ogren!']\n"
     ]
    }
   ],
   "source": [
    "strvar=\"Python\"\n",
    "print(strvar)\n",
    "\n",
    "strvar=strvar + \" ogren!\"\n",
    "print(strvar)\n",
    "\n",
    "print(strvar.upper())\n",
    "print(strvar.lower())\n",
    "print(strvar.split())\n",
    "print(strvar.split(\"o\"))\n",
    "print(strvar.split(sep=\"o\", maxsplit=1))"
   ]
  }
 ],
 "metadata": {
  "kernelspec": {
   "display_name": "Python 3 (ipykernel)",
   "language": "python",
   "name": "python3"
  },
  "language_info": {
   "codemirror_mode": {
    "name": "ipython",
    "version": 3
   },
   "file_extension": ".py",
   "mimetype": "text/x-python",
   "name": "python",
   "nbconvert_exporter": "python",
   "pygments_lexer": "ipython3",
   "version": "3.9.7"
  }
 },
 "nbformat": 4,
 "nbformat_minor": 5
}
