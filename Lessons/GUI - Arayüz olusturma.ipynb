{
 "cells": [
  {
   "cell_type": "code",
   "execution_count": 1,
   "id": "6c4a79ef",
   "metadata": {},
   "outputs": [],
   "source": [
    "#tkinter paketi\n",
    "from tkinter import *"
   ]
  },
  {
   "cell_type": "code",
   "execution_count": 18,
   "id": "e5f1a029",
   "metadata": {},
   "outputs": [],
   "source": [
    "master =Tk()\n",
    "\n",
    "canvas = Canvas(master, height=450, width=750)\n",
    "canvas.pack()\n",
    "#pack\n",
    "#place\n",
    "#grid\n",
    "#simdi de frameleri yapicaz:\n",
    "frame_ust = Frame(master, bg=\"#add8e6\")\n",
    "frame_ust.place(relx=0.1, rely=0.1, relwidth=0.8, relheight=0.1)\n",
    "\n",
    "frame_alt_sol = Frame(master, bg=\"#add8e6\")\n",
    "frame_alt_sol.place(relx=0.1, rely=0.21, relwidth=0.23, relheight=0.5)\n",
    "\n",
    "frame_alt_sag = Frame(master, bg=\"#add8e6\")\n",
    "frame_alt_sag.place(relx=0.34, rely=0.21, relwidth=0.56, relheight=0.5)\n",
    "#frameler bitti etiketleri ekliyoruz:\n",
    "hatirlatma_tipi_etiket = Label(frame_ust, bg=\"#add8e6\", text =\"Hatirlatma Tipi\", font=\"Verdana 12 bold\")\n",
    "hatirlatma_tipi_etiket.pack(padx=10, pady=10, side=LEFT)\n",
    "\n",
    "#simdi de dropdown u olusturucaz.(acilir liste)\n",
    "hatirlatma_tipi_options = StringVar(frame_ust)\n",
    "hatirlatma_tipi_options.set(\"\\t\")\n",
    "\n",
    "hatirlatma_tipi_acilir_menu = OptionMenu(\n",
    "frame_ust,\n",
    "hatirlatma_tipi_options,\n",
    "\"Dogum Gunu\",\n",
    "\"Alisveris\",\n",
    "\"Odeme\")\n",
    "hatirlatma_tipi_acilir_menu.pack(padx=10, pady=10, side=RIGHT)\n",
    "\n",
    "hatirlatma_tarih_secici = DateEntry(frame_ust, width=12, background='orange', foreground='black', borderwidth=1, locale='de_DE')\n",
    "\n",
    "##Simdi aynisini hatirlatma tarihi icin (bunun icin yukari da tarihsecici):\n",
    "hatirlatma_tarihi_etiket = Label(frame_ust, bg=\"#add8e6\", text =\"Hatirlatma Tarihi\", font=\"Verdana 12 bold\")\n",
    "hatirlatma_tarihi_etiket.pack(padx=10, pady=10, side=LEFT)\n",
    "\n",
    "\n",
    "\n",
    "master.mainloop()\n",
    "#bu sekilde arayüzü cagirdik\n",
    "#sadece ,asteröa yapinca acilip kapanir. loop yazip kapatana kadar durdururuz.\n",
    "#simdi canvas ile cizimler yapicaz"
   ]
  },
  {
   "cell_type": "code",
   "execution_count": null,
   "id": "df0d3e43",
   "metadata": {},
   "outputs": [],
   "source": []
  }
 ],
 "metadata": {
  "kernelspec": {
   "display_name": "Python 3 (ipykernel)",
   "language": "python",
   "name": "python3"
  },
  "language_info": {
   "codemirror_mode": {
    "name": "ipython",
    "version": 3
   },
   "file_extension": ".py",
   "mimetype": "text/x-python",
   "name": "python",
   "nbconvert_exporter": "python",
   "pygments_lexer": "ipython3",
   "version": "3.9.7"
  }
 },
 "nbformat": 4,
 "nbformat_minor": 5
}
