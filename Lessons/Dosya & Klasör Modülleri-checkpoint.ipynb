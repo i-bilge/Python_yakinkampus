{
 "cells": [
  {
   "cell_type": "code",
   "execution_count": 1,
   "id": "6495ad19",
   "metadata": {},
   "outputs": [
    {
     "name": "stdout",
     "output_type": "stream",
     "text": [
      " Datenträger in Laufwerk C: ist OS\n",
      " Volumeseriennummer: 72C4-2BB4\n",
      "\n",
      " Verzeichnis von C:\\Users\\ismai\\Desktop\n",
      "\n",
      "04.04.2022  18:30    <DIR>          .\n",
      "04.04.2022  18:30    <DIR>          ..\n",
      "04.04.2022  18:28    <DIR>          .ipynb_checkpoints\n",
      "22.02.2022  15:03    <DIR>          B2-C1 Kurs\n",
      "30.03.2022  13:30            13.815 Brief 30.03.2022.docx\n",
      "30.03.2022  13:30            61.927 Brief 30.03.2022.pdf\n",
      "04.04.2022  18:28             5.964 Class yapisi & OOP.ipynb\n",
      "04.04.2022  18:30               588 Dosya & Klasör Modülleri.ipynb\n",
      "17.01.2022  22:25    <DIR>          Ismail\n",
      "23.03.2022  19:46    <DIR>          Ismail Bilge\n",
      "01.10.2021  23:12            10.981 Mappe1(Automatisch wiederhergestellt).xlsx\n",
      "27.03.2022  01:48             2.354 Microsoft Teams.lnk\n",
      "21.03.2022  13:00             5.633 Module 2.ipynb\n",
      "26.03.2022  11:12             9.969 Module 3 - Fonksions1.ipynb\n",
      "26.03.2022  13:30             9.331 Module 3 devam.ipynb\n",
      "27.10.2021  23:37    <DIR>          Python\n",
      "20.03.2022  22:53    <DIR>          Python_Egitim-master\n",
      "20.03.2022  22:51            73.824 Python_Egitim-master.zip\n",
      "10.03.2022  19:13            57.694 qiuizlet.rtf\n",
      "20.03.2022  11:28             3.294 Start.ipynb\n",
      "12.01.2022  21:02            60.370 Temporale Ausdruksvarianten 2022-01-12 200217.png\n",
      "19.02.2022  13:27         1.063.720 Weimar.pdf\n",
      "              14 Datei(en),      1.379.464 Bytes\n",
      "               8 Verzeichnis(se), 413.540.818.944 Bytes frei\n"
     ]
    }
   ],
   "source": [
    "%ls #listeleme"
   ]
  },
  {
   "cell_type": "code",
   "execution_count": 2,
   "id": "68f95ad5",
   "metadata": {},
   "outputs": [
    {
     "data": {
      "text/plain": [
       "'C:\\\\Users\\\\ismai\\\\Desktop'"
      ]
     },
     "execution_count": 2,
     "metadata": {},
     "output_type": "execute_result"
    }
   ],
   "source": [
    "%pwd #su an bulundigim dosyayi gösterir. Bu ikisi jupiterde gecerli\n",
    "#OS modülüyle de her arayüzde kullanilabilir adres komutlarini görücez."
   ]
  },
  {
   "cell_type": "code",
   "execution_count": 3,
   "id": "307391de",
   "metadata": {},
   "outputs": [],
   "source": [
    "#Navigasyon ve icerik listeleme\n",
    "import os"
   ]
  },
  {
   "cell_type": "code",
   "execution_count": 4,
   "id": "d0b10da2",
   "metadata": {},
   "outputs": [
    {
     "data": {
      "text/plain": [
       "'C:\\\\Users\\\\ismai\\\\Desktop'"
      ]
     },
     "execution_count": 4,
     "metadata": {},
     "output_type": "execute_result"
    }
   ],
   "source": [
    "os.getcwd() #su an ki adres(get current working direktion)"
   ]
  },
  {
   "cell_type": "code",
   "execution_count": 5,
   "id": "7f8b2ffe",
   "metadata": {},
   "outputs": [
    {
     "data": {
      "text/plain": [
       "['.ipynb_checkpoints',\n",
       " 'B2-C1 Kurs',\n",
       " 'Brief 30.03.2022.docx',\n",
       " 'Brief 30.03.2022.pdf',\n",
       " 'Class yapisi & OOP.ipynb',\n",
       " 'desktop.ini',\n",
       " 'Dosya & Klasör Modülleri.ipynb',\n",
       " 'Ismail',\n",
       " 'Ismail Bilge',\n",
       " 'Mappe1(Automatisch wiederhergestellt).xlsx',\n",
       " 'Microsoft Teams.lnk',\n",
       " 'Module 2.ipynb',\n",
       " 'Module 3 - Fonksions1.ipynb',\n",
       " 'Module 3 devam.ipynb',\n",
       " 'Python',\n",
       " 'Python_Egitim-master',\n",
       " 'Python_Egitim-master.zip',\n",
       " 'qiuizlet.rtf',\n",
       " 'Start.ipynb',\n",
       " 'Temporale Ausdruksvarianten 2022-01-12 200217.png',\n",
       " 'Weimar.pdf']"
      ]
     },
     "execution_count": 5,
     "metadata": {},
     "output_type": "execute_result"
    }
   ],
   "source": [
    "os.listdir() #listeleme komutu da list diretory"
   ]
  },
  {
   "cell_type": "code",
   "execution_count": 6,
   "id": "c69b4d37",
   "metadata": {},
   "outputs": [
    {
     "data": {
      "text/plain": [
       "['All Users', 'Default', 'Default User', 'desktop.ini', 'ismai', 'Public']"
      ]
     },
     "execution_count": 6,
     "metadata": {},
     "output_type": "execute_result"
    }
   ],
   "source": [
    "#farkli bir lokasyondaki klosörün icerigi icin:\n",
    "os.listdir('C:\\\\Users')"
   ]
  },
  {
   "cell_type": "code",
   "execution_count": 7,
   "id": "db084c1a",
   "metadata": {},
   "outputs": [],
   "source": [
    "#default olarak su anki dosyayi aliyor. bunu da degistirebiliriz.\n",
    "os.chdir('C:\\\\Users')#change directory"
   ]
  },
  {
   "cell_type": "code",
   "execution_count": 8,
   "id": "80f4720e",
   "metadata": {},
   "outputs": [
    {
     "data": {
      "text/plain": [
       "['All Users', 'Default', 'Default User', 'desktop.ini', 'ismai', 'Public']"
      ]
     },
     "execution_count": 8,
     "metadata": {},
     "output_type": "execute_result"
    }
   ],
   "source": [
    "os.listdir()"
   ]
  },
  {
   "cell_type": "code",
   "execution_count": 10,
   "id": "40e27489",
   "metadata": {},
   "outputs": [],
   "source": [
    "os.chdir('C:\\\\Users\\\\ismai\\\\Desktop')"
   ]
  },
  {
   "cell_type": "code",
   "execution_count": null,
   "id": "f3aeb4ce",
   "metadata": {},
   "outputs": [],
   "source": [
    "#YENI ELEMAN OLUSTURMA & ISIM DEGISTIRME & SILME"
   ]
  },
  {
   "cell_type": "code",
   "execution_count": 11,
   "id": "8edf07eb",
   "metadata": {},
   "outputs": [],
   "source": [
    "os.mkdir('C:\\\\Users\\\\ismai\\\\Desktop\\\\deneme_klasoru')#make diretory ile yeni olusturma\n",
    "#mkdir ile sadece klasör olusturulur, dosya degil."
   ]
  },
  {
   "cell_type": "code",
   "execution_count": 13,
   "id": "681c38be",
   "metadata": {},
   "outputs": [
    {
     "data": {
      "text/plain": [
       "['.ipynb_checkpoints',\n",
       " 'B2-C1 Kurs',\n",
       " 'Brief 30.03.2022.docx',\n",
       " 'Brief 30.03.2022.pdf',\n",
       " 'Class yapisi & OOP.ipynb',\n",
       " 'deneme_klasoru',\n",
       " 'desktop.ini',\n",
       " 'Dosya & Klasör Modülleri.ipynb',\n",
       " 'Ismail',\n",
       " 'Ismail Bilge',\n",
       " 'Mappe1(Automatisch wiederhergestellt).xlsx',\n",
       " 'Microsoft Teams.lnk',\n",
       " 'Module 2.ipynb',\n",
       " 'Module 3 - Fonksions1.ipynb',\n",
       " 'Module 3 devam.ipynb',\n",
       " 'Python',\n",
       " 'Python_Egitim-master',\n",
       " 'Python_Egitim-master.zip',\n",
       " 'qiuizlet.rtf',\n",
       " 'Start.ipynb',\n",
       " 'Temporale Ausdruksvarianten 2022-01-12 200217.png',\n",
       " 'Weimar.pdf']"
      ]
     },
     "execution_count": 13,
     "metadata": {},
     "output_type": "execute_result"
    }
   ],
   "source": [
    "os.listdir()"
   ]
  },
  {
   "cell_type": "code",
   "execution_count": 14,
   "id": "2654526c",
   "metadata": {},
   "outputs": [],
   "source": [
    "os.rmdir('C:\\\\Users\\\\ismai\\\\Desktop\\\\deneme_klasoru')\n",
    "#bu da silme: remove directory ile yapilir."
   ]
  },
  {
   "cell_type": "code",
   "execution_count": 15,
   "id": "d8fe3c87",
   "metadata": {},
   "outputs": [
    {
     "data": {
      "text/plain": [
       "['.ipynb_checkpoints',\n",
       " 'B2-C1 Kurs',\n",
       " 'Brief 30.03.2022.docx',\n",
       " 'Brief 30.03.2022.pdf',\n",
       " 'Class yapisi & OOP.ipynb',\n",
       " 'desktop.ini',\n",
       " 'Dosya & Klasör Modülleri.ipynb',\n",
       " 'Ismail',\n",
       " 'Ismail Bilge',\n",
       " 'Mappe1(Automatisch wiederhergestellt).xlsx',\n",
       " 'Microsoft Teams.lnk',\n",
       " 'Module 2.ipynb',\n",
       " 'Module 3 - Fonksions1.ipynb',\n",
       " 'Module 3 devam.ipynb',\n",
       " 'Python',\n",
       " 'Python_Egitim-master',\n",
       " 'Python_Egitim-master.zip',\n",
       " 'qiuizlet.rtf',\n",
       " 'Start.ipynb',\n",
       " 'Temporale Ausdruksvarianten 2022-01-12 200217.png',\n",
       " 'Weimar.pdf']"
      ]
     },
     "execution_count": 15,
     "metadata": {},
     "output_type": "execute_result"
    }
   ],
   "source": [
    "os.listdir()"
   ]
  },
  {
   "cell_type": "code",
   "execution_count": 17,
   "id": "58c468a1",
   "metadata": {},
   "outputs": [],
   "source": [
    "#Simdi yeni bir dosya olusturma:\n",
    "#os.O_RDONLY = read only\n",
    "#os.O_WRONLY = write only\n",
    "#os.O_RDWR = read and write\n",
    "#os.O_CREAT = ceate\n",
    "yeni_dosya = os.open('yeni_dosya.txt',os.O_RDWR|os.O_CREAT)\n",
    "os.write(yeni_dosya, \"Hello World\".encode())#bureda encode string tipindeki metni byte a cevirdi.\n",
    "os.close(yeni_dosya)\n"
   ]
  },
  {
   "cell_type": "code",
   "execution_count": 19,
   "id": "2b039500",
   "metadata": {},
   "outputs": [
    {
     "name": "stdout",
     "output_type": "stream",
     "text": [
      "b'Hello'\n"
     ]
    }
   ],
   "source": [
    "#sadece okuya da biliriz.\n",
    "yeni_dosya = os.open('yeni_dosya.txt',os.O_RDONLY)\n",
    "icerik = os.read(yeni_dosya,5) #5 de kac hanesini okuyacagi\n",
    "print(icerik)\n",
    "os.close(yeni_dosya)\n"
   ]
  },
  {
   "cell_type": "code",
   "execution_count": 20,
   "id": "3e88c4bc",
   "metadata": {},
   "outputs": [
    {
     "name": "stdout",
     "output_type": "stream",
     "text": [
      "os.stat_result(st_mode=33206, st_ino=3940649674618599, st_dev=1925458868, st_nlink=1, st_uid=0, st_gid=0, st_size=11, st_atime=1649091720, st_mtime=1649091427, st_ctime=1649091401)\n"
     ]
    }
   ],
   "source": [
    "#Elimdeki dosyanin icerigini bilmiyor ve hane sayisi girmeden hepsini döndürmek istersem:\n",
    "#istatistiki yazicam\n",
    "yeni_dosya = os.open('yeni_dosya.txt',os.O_RDONLY)\n",
    "istatistik = os.stat(yeni_dosya) #statisticks\n",
    "print(istatistik)\n",
    "os.close(yeni_dosya)"
   ]
  },
  {
   "cell_type": "code",
   "execution_count": 22,
   "id": "f1c232b5",
   "metadata": {},
   "outputs": [
    {
     "name": "stdout",
     "output_type": "stream",
     "text": [
      "b'Hello World'\n"
     ]
    }
   ],
   "source": [
    "yeni_dosya = os.open('yeni_dosya.txt',os.O_RDONLY)\n",
    "uzunluk = os.stat(yeni_dosya).st_size\n",
    "icerik = os.read(yeni_dosya,uzunluk) #5 yerine size i ekledik)\n",
    "print(icerik)\n",
    "os.close(yeni_dosya)"
   ]
  },
  {
   "cell_type": "code",
   "execution_count": 25,
   "id": "4adadc88",
   "metadata": {},
   "outputs": [
    {
     "ename": "PermissionError",
     "evalue": "[WinError 32] Der Prozess kann nicht auf die Datei zugreifen, da sie von einem anderen Prozess verwendet wird: 'yeni_dosya.txt' -> 'eski_dosya-txt'",
     "output_type": "error",
     "traceback": [
      "\u001b[1;31m---------------------------------------------------------------------------\u001b[0m",
      "\u001b[1;31mPermissionError\u001b[0m                           Traceback (most recent call last)",
      "\u001b[1;32m~\\AppData\\Local\\Temp/ipykernel_24452/4228534492.py\u001b[0m in \u001b[0;36m<module>\u001b[1;34m\u001b[0m\n\u001b[0;32m      1\u001b[0m \u001b[1;31m#silmek icin de(dosya silmek) = os.unlink\u001b[0m\u001b[1;33m\u001b[0m\u001b[1;33m\u001b[0m\u001b[0m\n\u001b[0;32m      2\u001b[0m \u001b[1;31m#son olarak da mevcut dasyanin ismi degistirme:\u001b[0m\u001b[1;33m\u001b[0m\u001b[1;33m\u001b[0m\u001b[0m\n\u001b[1;32m----> 3\u001b[1;33m \u001b[0mos\u001b[0m\u001b[1;33m.\u001b[0m\u001b[0mrename\u001b[0m\u001b[1;33m(\u001b[0m\u001b[1;34m\"yeni_dosya.txt\"\u001b[0m\u001b[1;33m,\u001b[0m \u001b[1;34m\"eski_dosya-txt\"\u001b[0m\u001b[1;33m)\u001b[0m\u001b[1;33m\u001b[0m\u001b[1;33m\u001b[0m\u001b[0m\n\u001b[0m",
      "\u001b[1;31mPermissionError\u001b[0m: [WinError 32] Der Prozess kann nicht auf die Datei zugreifen, da sie von einem anderen Prozess verwendet wird: 'yeni_dosya.txt' -> 'eski_dosya-txt'"
     ]
    }
   ],
   "source": [
    "#silmek icin de(dosya silmek) = os.unlink\n",
    "#son olarak da mevcut dasyanin ismi degistirme:\n",
    "os.rename(\"yeni_dosya.txt\", \"eski_dosya-txt\")\n",
    "#normalde degistirilir. kullanildigi icin degistirmiyor."
   ]
  }
 ],
 "metadata": {
  "kernelspec": {
   "display_name": "Python 3 (ipykernel)",
   "language": "python",
   "name": "python3"
  },
  "language_info": {
   "codemirror_mode": {
    "name": "ipython",
    "version": 3
   },
   "file_extension": ".py",
   "mimetype": "text/x-python",
   "name": "python",
   "nbconvert_exporter": "python",
   "pygments_lexer": "ipython3",
   "version": "3.9.7"
  }
 },
 "nbformat": 4,
 "nbformat_minor": 5
}
