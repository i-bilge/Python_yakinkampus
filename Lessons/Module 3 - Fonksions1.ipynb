{
 "cells": [
  {
   "cell_type": "code",
   "execution_count": 3,
   "id": "2c61594b",
   "metadata": {},
   "outputs": [],
   "source": [
    "def sayi_dondur(sayi):\n",
    "    return sayi"
   ]
  },
  {
   "cell_type": "code",
   "execution_count": 4,
   "id": "f0df3eeb",
   "metadata": {},
   "outputs": [
    {
     "data": {
      "text/plain": [
       "10"
      ]
     },
     "execution_count": 4,
     "metadata": {},
     "output_type": "execute_result"
    }
   ],
   "source": [
    "sayi_dondur(10)"
   ]
  },
  {
   "cell_type": "code",
   "execution_count": 6,
   "id": "28d90430",
   "metadata": {},
   "outputs": [],
   "source": [
    "def sayi_dondur(sayi=250):\n",
    "    return sayi"
   ]
  },
  {
   "cell_type": "code",
   "execution_count": 7,
   "id": "dc4cd24d",
   "metadata": {},
   "outputs": [
    {
     "data": {
      "text/plain": [
       "250"
      ]
     },
     "execution_count": 7,
     "metadata": {},
     "output_type": "execute_result"
    }
   ],
   "source": [
    "sayi_dondur()"
   ]
  },
  {
   "cell_type": "code",
   "execution_count": 8,
   "id": "ae1bf96a",
   "metadata": {},
   "outputs": [],
   "source": [
    "def buyuk_sayi_dondur(a,b):\n",
    "    if a>b:\n",
    "        return a\n",
    "    elif b>a:\n",
    "        return b"
   ]
  },
  {
   "cell_type": "code",
   "execution_count": 9,
   "id": "6e9af86f",
   "metadata": {},
   "outputs": [
    {
     "data": {
      "text/plain": [
       "18"
      ]
     },
     "execution_count": 9,
     "metadata": {},
     "output_type": "execute_result"
    }
   ],
   "source": [
    "buyuk_sayi_dondur(10,18)"
   ]
  },
  {
   "cell_type": "code",
   "execution_count": 10,
   "id": "debf56f4",
   "metadata": {},
   "outputs": [],
   "source": [
    "def metin_yazdir(a,b):\n",
    "    buyuk_sayi = buyuk_sayi_dondur(a,b)\n",
    "    sablon_metin = \"{} daha büyük sayidir.\".format(buyuk_sayi)\n",
    "    print(sablon_metin)"
   ]
  },
  {
   "cell_type": "code",
   "execution_count": 11,
   "id": "c346fbd3",
   "metadata": {},
   "outputs": [
    {
     "name": "stdout",
     "output_type": "stream",
     "text": [
      "10 daha büyük sayidir.\n"
     ]
    }
   ],
   "source": [
    "metin_yazdir(1,10)"
   ]
  },
  {
   "cell_type": "code",
   "execution_count": 12,
   "id": "40e8bee2",
   "metadata": {},
   "outputs": [
    {
     "data": {
      "text/plain": [
       "['Gökce', 'Gün']"
      ]
     },
     "execution_count": 12,
     "metadata": {},
     "output_type": "execute_result"
    }
   ],
   "source": [
    "\"Gökce Gün\".split()"
   ]
  },
  {
   "cell_type": "code",
   "execution_count": 17,
   "id": "d4141413",
   "metadata": {},
   "outputs": [],
   "source": [
    "def isim_soyisim_ayirma(isim_soyisim):\n",
    "    isim = isim_soyisim.split()[0]\n",
    "    soyisim = isim_soyisim.split()[1]\n",
    "    return isim, soyisim"
   ]
  },
  {
   "cell_type": "code",
   "execution_count": 18,
   "id": "1a4dfac1",
   "metadata": {},
   "outputs": [
    {
     "data": {
      "text/plain": [
       "('Gökce', 'Gün')"
      ]
     },
     "execution_count": 18,
     "metadata": {},
     "output_type": "execute_result"
    }
   ],
   "source": [
    "isim_soyisim_ayirma(\"Gökce Gün\")"
   ]
  },
  {
   "cell_type": "code",
   "execution_count": 19,
   "id": "71af3757",
   "metadata": {},
   "outputs": [
    {
     "data": {
      "text/plain": [
       "'Gökce Gün'"
      ]
     },
     "execution_count": 19,
     "metadata": {},
     "output_type": "execute_result"
    }
   ],
   "source": [
    "\" \".join([\"Gökce\", \"Gün\"])"
   ]
  },
  {
   "cell_type": "code",
   "execution_count": 20,
   "id": "084e6162",
   "metadata": {},
   "outputs": [],
   "source": [
    "def isim_soyisim_birlestir(isim, soyisim):\n",
    "    return \" \".join([isim, soyisim])"
   ]
  },
  {
   "cell_type": "code",
   "execution_count": 21,
   "id": "116674de",
   "metadata": {},
   "outputs": [
    {
     "data": {
      "text/plain": [
       "'Osman Kaplan'"
      ]
     },
     "execution_count": 21,
     "metadata": {},
     "output_type": "execute_result"
    }
   ],
   "source": [
    "isim_soyisim_birlestir(\"Osman\", \"Kaplan\")"
   ]
  },
  {
   "cell_type": "code",
   "execution_count": 22,
   "id": "283e3bdc",
   "metadata": {},
   "outputs": [],
   "source": [
    "#ama 3 ismi olan birisi girdi yaparsa Error verir. burada args devreye girer.\n",
    "def isim_soyisim_birlestir(*args):\n",
    "    return \" \".join(args)\n",
    "#Burada args bir listeye referans verir"
   ]
  },
  {
   "cell_type": "code",
   "execution_count": 23,
   "id": "7fbce282",
   "metadata": {},
   "outputs": [
    {
     "data": {
      "text/plain": [
       "'Hamza Soner Yerlikaya'"
      ]
     },
     "execution_count": 23,
     "metadata": {},
     "output_type": "execute_result"
    }
   ],
   "source": [
    "isim_soyisim_birlestir(\"Hamza\", \"Soner\", \"Yerlikaya\")"
   ]
  },
  {
   "cell_type": "code",
   "execution_count": 27,
   "id": "fcc5f2ae",
   "metadata": {},
   "outputs": [
    {
     "name": "stdout",
     "output_type": "stream",
     "text": [
      "Soner\n",
      "Göbekadi yok\n"
     ]
    }
   ],
   "source": [
    "#Bir de **kwargs (key words argumants)var. Bu da Dictionary listesi olusturur\n",
    "def gobek_adi_yazdir(**kwargs):\n",
    "    if 'gobekadi' in kwargs:\n",
    "        print(kwargs['gobekadi'])\n",
    "    else:\n",
    "        print(\"Göbekadi yok\")\n",
    "        \n",
    "\n",
    "gobek_adi_yazdir(adi=\"Hamza\", gobekadi=\"Soner\", soyadi=\"Yerlikaya\")\n",
    "gobek_adi_yazdir(adi=\"Yasin\", soyadi=\"Akbas\")"
   ]
  },
  {
   "cell_type": "code",
   "execution_count": 28,
   "id": "be7cf66d",
   "metadata": {},
   "outputs": [],
   "source": [
    "def karesini_al(x):\n",
    "    return x**2"
   ]
  },
  {
   "cell_type": "code",
   "execution_count": 29,
   "id": "d112096c",
   "metadata": {},
   "outputs": [
    {
     "data": {
      "text/plain": [
       "25"
      ]
     },
     "execution_count": 29,
     "metadata": {},
     "output_type": "execute_result"
    }
   ],
   "source": [
    "karesini_al(5)"
   ]
  },
  {
   "cell_type": "code",
   "execution_count": 31,
   "id": "f6368d15",
   "metadata": {},
   "outputs": [
    {
     "data": {
      "text/plain": [
       "[1, 2, 3, 4, 5]"
      ]
     },
     "execution_count": 31,
     "metadata": {},
     "output_type": "execute_result"
    }
   ],
   "source": [
    "sayilar = [*range(1,6)]\n",
    "sayilar"
   ]
  },
  {
   "cell_type": "code",
   "execution_count": 35,
   "id": "77ecc057",
   "metadata": {},
   "outputs": [
    {
     "name": "stdout",
     "output_type": "stream",
     "text": [
      "[1, 2, 3, 4, 5]\n",
      "[1, 4, 9, 16, 25]\n"
     ]
    }
   ],
   "source": [
    "sayilar = [*range(1,6)]\n",
    "print(sayilar)\n",
    "\n",
    "for index in range(len(sayilar)):\n",
    "    sayilar[index] = karesini_al(sayilar[index])\n",
    "print(sayilar)"
   ]
  },
  {
   "cell_type": "code",
   "execution_count": 37,
   "id": "7c3f26fa",
   "metadata": {},
   "outputs": [
    {
     "data": {
      "text/plain": [
       "[1, 4, 9, 16, 25]"
      ]
     },
     "execution_count": 37,
     "metadata": {},
     "output_type": "execute_result"
    }
   ],
   "source": [
    "#map fonksyonu da herhangi bir fonksyonu(z.B karesini_al) bütün elemanlara uygular\n",
    "sayilar = [*range(1,6)]\n",
    "[*map(karesini_al, sayilar)]\n",
    "#Broadcast de([*...]) listesini al(list()) demek."
   ]
  },
  {
   "cell_type": "code",
   "execution_count": 38,
   "id": "bf54d0f8",
   "metadata": {},
   "outputs": [],
   "source": [
    "#filter de; her elemana degil de belirlenen sarti saglayanlara uygular\n",
    "def cift_sayilari_filtrele(x):\n",
    "    if x%2==0:\n",
    "        return x\n",
    "    else:\n",
    "        return None"
   ]
  },
  {
   "cell_type": "code",
   "execution_count": 40,
   "id": "38ddb2c1",
   "metadata": {},
   "outputs": [
    {
     "data": {
      "text/plain": [
       "[2, 4]"
      ]
     },
     "execution_count": 40,
     "metadata": {},
     "output_type": "execute_result"
    }
   ],
   "source": [
    "sayilar = [*range(1,6)]\n",
    "[*filter(cift_sayilari_filtrele, sayilar)]"
   ]
  },
  {
   "cell_type": "code",
   "execution_count": 41,
   "id": "c9c99a6a",
   "metadata": {},
   "outputs": [
    {
     "data": {
      "text/plain": [
       "[1, 4, 9, 16, 25]"
      ]
     },
     "execution_count": 41,
     "metadata": {},
     "output_type": "execute_result"
    }
   ],
   "source": [
    "#map ve filter Fonksyonlarinda önceden bir fonksyon olusturup onu cagiriyorum\n",
    "#lambda ise Fonksyonu yol üstünde hazirlamami sagliyor\n",
    "sayilar = [*range(1,6)]\n",
    "[*map(lambda sayi: sayi**2, sayilar)]"
   ]
  },
  {
   "cell_type": "code",
   "execution_count": 44,
   "id": "1e429a81",
   "metadata": {},
   "outputs": [
    {
     "data": {
      "text/plain": [
       "[2, 4]"
      ]
     },
     "execution_count": 44,
     "metadata": {},
     "output_type": "execute_result"
    }
   ],
   "source": [
    "sayilar = [*range(1,6)]\n",
    "list(filter(lambda x: x if x%2==0 else None, sayilar))"
   ]
  },
  {
   "cell_type": "code",
   "execution_count": null,
   "id": "0069d9ed",
   "metadata": {},
   "outputs": [],
   "source": [
    "input(\"Bir sayi girin:\")"
   ]
  },
  {
   "cell_type": "markdown",
   "id": "ad47d3d7",
   "metadata": {},
   "source": []
  }
 ],
 "metadata": {
  "kernelspec": {
   "display_name": "Python 3 (ipykernel)",
   "language": "python",
   "name": "python3"
  },
  "language_info": {
   "codemirror_mode": {
    "name": "ipython",
    "version": 3
   },
   "file_extension": ".py",
   "mimetype": "text/x-python",
   "name": "python",
   "nbconvert_exporter": "python",
   "pygments_lexer": "ipython3",
   "version": "3.9.7"
  }
 },
 "nbformat": 4,
 "nbformat_minor": 5
}
