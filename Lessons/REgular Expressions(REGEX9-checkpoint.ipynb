{
 "cells": [
  {
   "cell_type": "code",
   "execution_count": 1,
   "id": "8bb46623",
   "metadata": {},
   "outputs": [],
   "source": [
    "import re"
   ]
  },
  {
   "cell_type": "code",
   "execution_count": 2,
   "id": "f45870ab",
   "metadata": {},
   "outputs": [
    {
     "data": {
      "text/plain": [
       "<re.Match object; span=(23, 27), match='Türk'>"
      ]
     },
     "execution_count": 2,
     "metadata": {},
     "output_type": "execute_result"
    }
   ],
   "source": [
    "cumle = \"Mustafa Kemal Atatürk, Türk Asker, devlet adami ve Türkiye Cumhuriyeti´nin kurucusudur.\"\n",
    "#mesela bu cüme de kackere \"türk\" gectigini bulmak isterken. bunu bana veren re olacak.\n",
    "patern = \"Türk\"\n",
    "\n",
    "re.search(patern, cumle)\n",
    "#bize ilk eslesmeyi döndürdü"
   ]
  },
  {
   "cell_type": "code",
   "execution_count": 4,
   "id": "6d6ea005",
   "metadata": {},
   "outputs": [
    {
     "data": {
      "text/plain": [
       "(23, 27)"
      ]
     },
     "execution_count": 4,
     "metadata": {},
     "output_type": "execute_result"
    }
   ],
   "source": [
    "durum = re.search(patern, cumle)\n",
    "durum.span()"
   ]
  },
  {
   "cell_type": "code",
   "execution_count": 7,
   "id": "2bf9b0b8",
   "metadata": {},
   "outputs": [
    {
     "name": "stdout",
     "output_type": "stream",
     "text": [
      "Türk\n",
      "Türk\n"
     ]
    }
   ],
   "source": [
    "#bütün eslesmeleri bulmak icin:\n",
    "for eslesme in re.findall(patern, cumle):\n",
    "    print(eslesme)"
   ]
  },
  {
   "cell_type": "code",
   "execution_count": 9,
   "id": "896d7617",
   "metadata": {},
   "outputs": [
    {
     "data": {
      "text/plain": [
       "<re.Match object; span=(29, 41), match='0535-8886622'>"
      ]
     },
     "execution_count": 9,
     "metadata": {},
     "output_type": "execute_result"
    }
   ],
   "source": [
    "cumle = \"Selam, benim telefon numaram 0535-8886622.\"\n",
    "#simdi de belirli bir sey degil de bir numara kontextini anlamasini saglicaz.\n",
    "#bunun icin regex dilinde semboller var onlari kullaniriz.\n",
    "\n",
    "patern = r\"\\d\\d\\d\\d-\\d\\d\\d\\d\\d\\d\\d\"\n",
    "patern2 = r\"\\d{3,4}-\\d{7}\"\n",
    "\n",
    "re.search(patern, cumle)\n",
    "re.search(patern2, cumle)"
   ]
  },
  {
   "cell_type": "code",
   "execution_count": 11,
   "id": "f6b86f4c",
   "metadata": {},
   "outputs": [
    {
     "name": "stdout",
     "output_type": "stream",
     "text": [
      " sevdigim (2, 11)\n",
      " kanal (11, 17)\n",
      " base42 (17, 24)\n"
     ]
    }
   ],
   "source": [
    "cumle = \"En sevdigim kanal base42\"\n",
    "patern = r\"\\s\\w{5,}\"\n",
    "\n",
    "for eslesme in re.finditer(patern, cumle):\n",
    "    print(eslesme.group(), eslesme.span())"
   ]
  },
  {
   "cell_type": "code",
   "execution_count": 17,
   "id": "09edb66c",
   "metadata": {},
   "outputs": [],
   "source": [
    "#CSM operatorlerini bulan bir fonksyon:\n",
    "def gsm_operator_find(tel_no):\n",
    "    patern = r\"(\\d{3})-(\\d{7})\"\n",
    "    eslesme = re.search(patern, tel_no)\n",
    "    \n",
    "    if eslesme:\n",
    "        gsm_kod = eslesme.groups()[0]\n",
    "        if gsm_kod.startswith(\"54\"):\n",
    "            return \"Vodafone\"\n",
    "        elif gsm_kod.startswith(\"501\") or gsm_kod.startswith(\"505\") or gsm_kod.startswith(\"506\"):\n",
    "            return \"Avea\"\n",
    "        elif gsm_kod.startswith(\"53\"):\n",
    "            return \"Turkcell\"\n",
    "        else: \n",
    "            return \"Sebeke bulunamadi\"\n",
    "        \n",
    "    else:\n",
    "        return \"Patern bulunamadi.\""
   ]
  },
  {
   "cell_type": "code",
   "execution_count": 19,
   "id": "d1a51028",
   "metadata": {},
   "outputs": [
    {
     "data": {
      "text/plain": [
       "'Turkcell'"
      ]
     },
     "execution_count": 19,
     "metadata": {},
     "output_type": "execute_result"
    }
   ],
   "source": [
    "tel_no = \"Selam benim numaram: 0535-8886622\"\n",
    "gsm_operator_find(tel_no)"
   ]
  },
  {
   "cell_type": "code",
   "execution_count": 20,
   "id": "b2c398eb",
   "metadata": {},
   "outputs": [],
   "source": [
    "import re\n",
    "\n",
    "def mesaj_hissi_bul(mesaj):\n",
    "    hisler = []\n",
    "    \n",
    "    pozitif_patern = r\"(merhaba|selam|ask|sevgi|dost|kardes|:\\)+)\"\n",
    "    negatif_patern = r\"(lan|aptal|abv|yeter|birak)\"\n",
    "    heyecanli_patern = r\"!|[!|?]{2,}|$\"\n",
    "    sakin_patern = r\"^[Tabi+|HayHay]|...\"\n",
    "    emin_patern = r\"[K|k]esin|[T|t]abi|[E|e]lbet\"\n",
    "    \n",
    "    if re.search(pozitif_patern, mesaj):\n",
    "        hisler.append(\"Pozitif\")\n",
    "    if re.search(negatif_patern, mesaj):\n",
    "        hisler.append(\"Negatif\")\n",
    "    if re.search(heyecanli_patern, mesaj):\n",
    "        hisler.append(\"Heyecanli\")\n",
    "    if re.search(sakin_patern, mesaj):\n",
    "        hisler.append(\"Sakin\")\n",
    "    if re.search(emin_patern, mesaj):\n",
    "        hisler.append(\"Emin\")\n",
    "        \n",
    "    return hisler\n",
    "    \n",
    "        "
   ]
  },
  {
   "cell_type": "code",
   "execution_count": 21,
   "id": "f34933f3",
   "metadata": {},
   "outputs": [
    {
     "name": "stdout",
     "output_type": "stream",
     "text": [
      "Naber abi? :) \t ['Pozitif', 'Heyecanli']\n",
      "Tabiii ki buyrun \t ['Heyecanli', 'Sakin', 'Emin']\n",
      "sacmalamayi birak artik! \t ['Negatif', 'Heyecanli']\n",
      "Belki yarindan da yakin... \t ['Heyecanli']\n",
      "Elbet bir gün bulacagiz. \t ['Heyecanli', 'Emin']\n"
     ]
    }
   ],
   "source": [
    "cumle1 = \"Naber abi? :)\"\n",
    "cumle2 = \"Tabiii ki buyrun\"\n",
    "cumle3 = \"sacmalamayi birak artik!\"\n",
    "cumle4 = \"Belki yarindan da yakin...\"\n",
    "cumle5 = \"Elbet bir gün bulacagiz.\"\n",
    "cumleler = [cumle1, cumle2, cumle3, cumle4, cumle5]\n",
    "for cumle in cumleler:\n",
    "    print(cumle, '\\t', mesaj_hissi_bul(cumle))"
   ]
  }
 ],
 "metadata": {
  "kernelspec": {
   "display_name": "Python 3 (ipykernel)",
   "language": "python",
   "name": "python3"
  },
  "language_info": {
   "codemirror_mode": {
    "name": "ipython",
    "version": 3
   },
   "file_extension": ".py",
   "mimetype": "text/x-python",
   "name": "python",
   "nbconvert_exporter": "python",
   "pygments_lexer": "ipython3",
   "version": "3.9.7"
  }
 },
 "nbformat": 4,
 "nbformat_minor": 5
}
