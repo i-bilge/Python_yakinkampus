{
 "cells": [
  {
   "cell_type": "code",
   "execution_count": null,
   "id": "3ad8f8a9",
   "metadata": {},
   "outputs": [],
   "source": [
    "#UML soyut konseptleri somutlastirmak icin kullanilabilir, bu alanda.\n",
    "#Class: Class_name, attribute(özellik) ve method dan olusur.\n",
    "#Bu sekilde Classlar cok bayutlu degerleri tutabilecegimiz kaliplardir.\n",
    "#Objekt: Class´lardaki herbir yukaridaki ozellikleriolan instant da Objekt tir.\n",
    "#Class Inheritance: classin deger aktarabildigi alt classlatdir.\n",
    "\n",
    "#Class: \"class <Class_ismi>()\" seklinde acilir.\n",
    "    #<calss attr> genel degerleri icerir.\n",
    "    #def _init_(self, <attr>): önneklendierme olan instantiation un kisaltmasi\n",
    "        #self.<instance attr>=attr attributlar örnege özgu olusturulur\n",
    "        #...\n",
    "        \n",
    "    #def <method>(self, <params>): methodlar class`a özgu fonksyonlardir\n",
    "        #...\n",
    "        #return..."
   ]
  },
  {
   "cell_type": "code",
   "execution_count": 12,
   "id": "7bf2cf5d",
   "metadata": {},
   "outputs": [],
   "source": [
    "class Ucus():\n",
    "    havayolu = \"THY\""
   ]
  },
  {
   "cell_type": "code",
   "execution_count": 13,
   "id": "59d12fc4",
   "metadata": {},
   "outputs": [],
   "source": [
    "ucus1 = Ucus()"
   ]
  },
  {
   "cell_type": "code",
   "execution_count": 14,
   "id": "1b152c53",
   "metadata": {},
   "outputs": [
    {
     "data": {
      "text/plain": [
       "'THY'"
      ]
     },
     "execution_count": 14,
     "metadata": {},
     "output_type": "execute_result"
    }
   ],
   "source": [
    "ucus1.havayolu"
   ]
  },
  {
   "cell_type": "code",
   "execution_count": null,
   "id": "93d63706",
   "metadata": {},
   "outputs": [],
   "source": [
    "#ucus bir class oldu ve ucus1 adinda nesne olusturdum. onun da attribute lerini cagirabiliyarum."
   ]
  },
  {
   "cell_type": "code",
   "execution_count": 25,
   "id": "d59bcbc8",
   "metadata": {},
   "outputs": [],
   "source": [
    "class Ucus():\n",
    "    havayolu = \"THY\"\n",
    "    \n",
    "    def __init__(self, kod, kalkis, varis, sure, kapasite, yolcu):\n",
    "        self.kod = kod\n",
    "        self.kalkis = kalkis\n",
    "        self.varis = varis\n",
    "        self.sure = sure\n",
    "        self.kapasite = kapasite\n",
    "        self.yolcu = yolcu\n",
    "     \n",
    "    def __repr__(self):\n",
    "        return \"{} sefer sayili ucus, sistemde olusturulmustur.\".format(self.kod)\n",
    "        "
   ]
  },
  {
   "cell_type": "code",
   "execution_count": 20,
   "id": "882981be",
   "metadata": {},
   "outputs": [],
   "source": [
    "ucus2 = Ucus('TK123', 'IST', 'ANK', 60, 300, 50)"
   ]
  },
  {
   "cell_type": "code",
   "execution_count": 27,
   "id": "6836f22c",
   "metadata": {},
   "outputs": [],
   "source": [
    "#Dunder(Double Under score)Methodlar\n",
    "ucus3 = Ucus('TK223', 'BOD', 'ANT', 40, 250, 200)"
   ]
  },
  {
   "cell_type": "code",
   "execution_count": 28,
   "id": "dff91dc8",
   "metadata": {},
   "outputs": [
    {
     "data": {
      "text/plain": [
       "TK223 sefer sayili ucus, sistemde olusturulmustur."
      ]
     },
     "execution_count": 28,
     "metadata": {},
     "output_type": "execute_result"
    }
   ],
   "source": [
    "ucus3"
   ]
  },
  {
   "cell_type": "code",
   "execution_count": 30,
   "id": "e4f557f4",
   "metadata": {},
   "outputs": [],
   "source": [
    "#Inheritance: kalitimda classtan attribute lari alt classlara aktarabiliriz.\n",
    "class Seyahat():\n",
    "    def __init__(self, kalkis, varis):\n",
    "        self.kalkis = kalkis\n",
    "        self.varis = varis\n",
    "        \n",
    "    def anons(self):\n",
    "        return \"{} - {} seyahatine hos geldiniz!\".format(self.kalkis, self.varis)\n",
    "    \n",
    "class Otobüs(Seyahat):#parantez icine inherit edilen class i yaz.\n",
    "    def __init__(self, mola_duraklari):\n",
    "        Seyahat.__init__(self, 'IST','ANK')\n",
    "        self.mola_duraklari = mola_duraklari\n",
    "    "
   ]
  },
  {
   "cell_type": "code",
   "execution_count": 33,
   "id": "f5ff873e",
   "metadata": {},
   "outputs": [
    {
     "data": {
      "text/plain": [
       "'ANT - BOD seyahatine hos geldiniz!'"
      ]
     },
     "execution_count": 33,
     "metadata": {},
     "output_type": "execute_result"
    }
   ],
   "source": [
    "seyahat1 = Seyahat('ANT','BOD')\n",
    "seyahat1.anons()"
   ]
  },
  {
   "cell_type": "code",
   "execution_count": 34,
   "id": "c3a8a861",
   "metadata": {},
   "outputs": [],
   "source": [
    "oto1 = Otobüs(['FET','ALAN'])"
   ]
  },
  {
   "cell_type": "code",
   "execution_count": 35,
   "id": "8d051744",
   "metadata": {},
   "outputs": [
    {
     "data": {
      "text/plain": [
       "['FET', 'ALAN']"
      ]
     },
     "execution_count": 35,
     "metadata": {},
     "output_type": "execute_result"
    }
   ],
   "source": [
    "oto1.mola_duraklari"
   ]
  },
  {
   "cell_type": "code",
   "execution_count": 36,
   "id": "7c6eedcc",
   "metadata": {},
   "outputs": [
    {
     "data": {
      "text/plain": [
       "'IST'"
      ]
     },
     "execution_count": 36,
     "metadata": {},
     "output_type": "execute_result"
    }
   ],
   "source": [
    "oto1.kalkis"
   ]
  },
  {
   "cell_type": "code",
   "execution_count": null,
   "id": "eef38d08",
   "metadata": {},
   "outputs": [],
   "source": []
  }
 ],
 "metadata": {
  "kernelspec": {
   "display_name": "Python 3 (ipykernel)",
   "language": "python",
   "name": "python3"
  },
  "language_info": {
   "codemirror_mode": {
    "name": "ipython",
    "version": 3
   },
   "file_extension": ".py",
   "mimetype": "text/x-python",
   "name": "python",
   "nbconvert_exporter": "python",
   "pygments_lexer": "ipython3",
   "version": "3.9.7"
  }
 },
 "nbformat": 4,
 "nbformat_minor": 5
}
