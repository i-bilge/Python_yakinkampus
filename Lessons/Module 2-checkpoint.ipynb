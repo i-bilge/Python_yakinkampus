{
 "cells": [
  {
   "cell_type": "code",
   "execution_count": 2,
   "id": "a57139ca",
   "metadata": {},
   "outputs": [
    {
     "name": "stdout",
     "output_type": "stream",
     "text": [
      "1 Ismail Aydemir\n",
      "2 Uygar Aydin\n",
      "3 Naz Yazicioglu\n",
      "4 Ferhat Ibrik\n",
      "5 Ulas Acil\n",
      "6 Bilal Kurucay\n"
     ]
    }
   ],
   "source": [
    "yorum_birakanlar = [\"Ismail Aydemir\", \"Uygar Aydin\", \"Naz Yazicioglu\", \"Ferhat Ibrik\", \"Ulas Acil\", \"Bilal Kurucay\"]\n",
    "kullanici_sayisi = 0\n",
    "\n",
    "for kullanici in yorum_birakanlar:\n",
    "    kullanici_sayisi = kullanici_sayisi+1\n",
    "    print(kullanici_sayisi,kullanici)\n"
   ]
  },
  {
   "cell_type": "code",
   "execution_count": 3,
   "id": "09032a47",
   "metadata": {},
   "outputs": [
    {
     "name": "stdout",
     "output_type": "stream",
     "text": [
      "1. Kullanici Adi Ismail Soyadi Aydemir\n",
      "2. Kullanici Adi Uygar Soyadi Aydin\n",
      "3. Kullanici Adi Naz Soyadi Yazicioglu\n",
      "4. Kullanici Adi Ferhat Soyadi Ibrik\n",
      "5. Kullanici Adi Ulas Soyadi Acil\n",
      "6. Kullanici Adi Bilal Soyadi Kurucay\n"
     ]
    }
   ],
   "source": [
    "kullanici_sayisi = 0\n",
    "\n",
    "for kullanici in yorum_birakanlar:\n",
    "    kullanici_sayisi = kullanici_sayisi+1\n",
    "    ad,soyad = kullanici.split()[0], kullanici.split()[1]\n",
    "    print(\"{0}. Kullanici Adi {1} Soyadi {2}\".format(kullanici_sayisi,ad,soyad))"
   ]
  },
  {
   "cell_type": "code",
   "execution_count": 4,
   "id": "02c88465",
   "metadata": {},
   "outputs": [
    {
     "name": "stdout",
     "output_type": "stream",
     "text": [
      "1. Kullanicinin Adi Ismail Soyadi Aydemir\n",
      "2. Kullanicinin Adi Uygar Soyadi Aydin\n",
      "3. Kullanicinin Adi Naz Soyadi Yazicioglu\n",
      "1. Moderatorun Adi Ferhat Soyadi Ibrik\n",
      "4. Kullanicinin Adi Ulas Soyadi Acil\n",
      "5. Kullanicinin Adi Bilal Soyadi Kurucay\n"
     ]
    }
   ],
   "source": [
    "moderator = \"Ferhat Ibrik\"\n",
    "\n",
    "kullanici_sayisi=0\n",
    "moderator_sayisi=0\n",
    "\n",
    "for kullanici in yorum_birakanlar:\n",
    "    ad,soyad = kullanici.split()[0], kullanici.split()[1]\n",
    "    \n",
    "    if(kullanici == moderator):\n",
    "        moderator_sayisi += 1\n",
    "        print(\"{0}. Moderatorun Adi {1} Soyadi {2}\".format(moderator_sayisi, ad, soyad))\n",
    "    else:\n",
    "        kullanici_sayisi += 1\n",
    "        print(\"{0}. Kullanicinin Adi {1} Soyadi {2}\".format(kullanici_sayisi, ad, soyad))"
   ]
  },
  {
   "cell_type": "code",
   "execution_count": 5,
   "id": "516677b6",
   "metadata": {},
   "outputs": [
    {
     "name": "stdout",
     "output_type": "stream",
     "text": [
      "1\n",
      "2\n",
      "3\n",
      "4\n",
      "5\n"
     ]
    }
   ],
   "source": [
    "tup1 = (1,2,3,4,5)\n",
    "\n",
    "for sayi in tup1:\n",
    "    print(sayi)"
   ]
  },
  {
   "cell_type": "code",
   "execution_count": 8,
   "id": "d4cc6c9b",
   "metadata": {},
   "outputs": [
    {
     "name": "stdout",
     "output_type": "stream",
     "text": [
      "0 degeri 10´dan kücüktür\n",
      "1 degeri 10´dan kücüktür\n",
      "2 degeri 10´dan kücüktür\n",
      "3 degeri 10´dan kücüktür\n",
      "4 degeri 10´dan kücüktür\n",
      "5 degeri 10´dan kücüktür\n",
      "6 degeri 10´dan kücüktür\n",
      "7 degeri 10´dan kücüktür\n",
      "8 degeri 10´dan kücüktür\n",
      "9 degeri 10´dan kücüktür\n"
     ]
    }
   ],
   "source": [
    "x = 0\n",
    "\n",
    "while x < 10:\n",
    "    print(\"{} degeri 10´dan kücüktür\".format(x))\n",
    "    x +=1"
   ]
  },
  {
   "cell_type": "code",
   "execution_count": 13,
   "id": "8abe8453",
   "metadata": {},
   "outputs": [
    {
     "name": "stdout",
     "output_type": "stream",
     "text": [
      "5\n",
      "6\n",
      "7\n",
      "8\n",
      "9\n"
     ]
    }
   ],
   "source": [
    "range(10)\n",
    "\n",
    "for sayi in range(10):\n",
    "    if sayi >= 5:\n",
    "        print(sayi)"
   ]
  },
  {
   "cell_type": "code",
   "execution_count": 18,
   "id": "67fa724e",
   "metadata": {},
   "outputs": [
    {
     "name": "stdout",
     "output_type": "stream",
     "text": [
      "(0, 'a')\n",
      "(1, 'b')\n",
      "(2, 'c')\n",
      "(3, 'd')\n",
      "(4, 'e')\n"
     ]
    }
   ],
   "source": [
    "harfler = ['a','b','c','d','e']\n",
    "for harf in enumerate(harfler):\n",
    "    print(harf)\n"
   ]
  },
  {
   "cell_type": "code",
   "execution_count": 20,
   "id": "663c22a3",
   "metadata": {},
   "outputs": [
    {
     "name": "stdout",
     "output_type": "stream",
     "text": [
      "('Tr', 1)\n",
      "('Fr', 2)\n",
      "('De', 3)\n"
     ]
    }
   ],
   "source": [
    "ulkeler = [\"Tr\",\"Fr\",\"De\"]\n",
    "siralamalar = range(1,4)\n",
    "\n",
    "for ulke in zip(ulkeler,siralamalar):\n",
    "    print(ulke)\n",
    "    "
   ]
  },
  {
   "cell_type": "code",
   "execution_count": null,
   "id": "4d87b3fe",
   "metadata": {},
   "outputs": [],
   "source": []
  }
 ],
 "metadata": {
  "kernelspec": {
   "display_name": "Python 3 (ipykernel)",
   "language": "python",
   "name": "python3"
  },
  "language_info": {
   "codemirror_mode": {
    "name": "ipython",
    "version": 3
   },
   "file_extension": ".py",
   "mimetype": "text/x-python",
   "name": "python",
   "nbconvert_exporter": "python",
   "pygments_lexer": "ipython3",
   "version": "3.9.7"
  }
 },
 "nbformat": 4,
 "nbformat_minor": 5
}
