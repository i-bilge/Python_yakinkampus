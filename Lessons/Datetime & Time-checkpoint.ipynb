{
 "cells": [
  {
   "cell_type": "code",
   "execution_count": 1,
   "id": "bc8adb93",
   "metadata": {},
   "outputs": [],
   "source": [
    "import datetime"
   ]
  },
  {
   "cell_type": "code",
   "execution_count": 2,
   "id": "295b597f",
   "metadata": {},
   "outputs": [],
   "source": [
    "from datetime import date"
   ]
  },
  {
   "cell_type": "code",
   "execution_count": 4,
   "id": "be0f5193",
   "metadata": {},
   "outputs": [
    {
     "data": {
      "text/plain": [
       "datetime.date(2022, 4, 6)"
      ]
     },
     "execution_count": 4,
     "metadata": {},
     "output_type": "execute_result"
    }
   ],
   "source": [
    "bugün = date.today()\n",
    "bugün"
   ]
  },
  {
   "cell_type": "code",
   "execution_count": null,
   "id": "19543a6c",
   "metadata": {},
   "outputs": [],
   "source": []
  },
  {
   "cell_type": "code",
   "execution_count": 5,
   "id": "a5e01565",
   "metadata": {},
   "outputs": [
    {
     "data": {
      "text/plain": [
       "datetime.date(2022, 4, 5)"
      ]
     },
     "execution_count": 5,
     "metadata": {},
     "output_type": "execute_result"
    }
   ],
   "source": [
    "dün = date(2022, 4, 5)\n",
    "dün"
   ]
  },
  {
   "cell_type": "code",
   "execution_count": 6,
   "id": "aea2a5c7",
   "metadata": {},
   "outputs": [
    {
     "data": {
      "text/plain": [
       "datetime.timedelta(days=1)"
      ]
     },
     "execution_count": 6,
     "metadata": {},
     "output_type": "execute_result"
    }
   ],
   "source": [
    "bugün - dün"
   ]
  },
  {
   "cell_type": "code",
   "execution_count": 9,
   "id": "93f3892e",
   "metadata": {
    "scrolled": true
   },
   "outputs": [
    {
     "data": {
      "text/plain": [
       "1"
      ]
     },
     "execution_count": 9,
     "metadata": {},
     "output_type": "execute_result"
    }
   ],
   "source": [
    "#sayisal karisiligi icin:\n",
    "zaman_araligi = bugün-dün\n",
    "zaman_araligi.days"
   ]
  },
  {
   "cell_type": "code",
   "execution_count": 8,
   "id": "68c6eaba",
   "metadata": {},
   "outputs": [
    {
     "data": {
      "text/plain": [
       "datetime.date(2022, 4, 7)"
      ]
     },
     "execution_count": 8,
     "metadata": {},
     "output_type": "execute_result"
    }
   ],
   "source": [
    "yarin = bugün + datetime.timedelta(days = 1)\n",
    "yarin"
   ]
  },
  {
   "cell_type": "code",
   "execution_count": 10,
   "id": "0e05e31c",
   "metadata": {},
   "outputs": [
    {
     "data": {
      "text/plain": [
       "True"
      ]
     },
     "execution_count": 10,
     "metadata": {},
     "output_type": "execute_result"
    }
   ],
   "source": [
    "bugün>dün"
   ]
  },
  {
   "cell_type": "code",
   "execution_count": 11,
   "id": "de433378",
   "metadata": {},
   "outputs": [
    {
     "data": {
      "text/plain": [
       "2022"
      ]
     },
     "execution_count": 11,
     "metadata": {},
     "output_type": "execute_result"
    }
   ],
   "source": [
    "bugün.year"
   ]
  },
  {
   "cell_type": "code",
   "execution_count": 12,
   "id": "875ca00f",
   "metadata": {},
   "outputs": [
    {
     "data": {
      "text/plain": [
       "4"
      ]
     },
     "execution_count": 12,
     "metadata": {},
     "output_type": "execute_result"
    }
   ],
   "source": [
    "bugün.month"
   ]
  },
  {
   "cell_type": "code",
   "execution_count": 13,
   "id": "96256296",
   "metadata": {},
   "outputs": [
    {
     "data": {
      "text/plain": [
       "datetime.IsoCalendarDate(year=2022, week=14, weekday=3)"
      ]
     },
     "execution_count": 13,
     "metadata": {},
     "output_type": "execute_result"
    }
   ],
   "source": [
    "date.isocalendar(bugün)#bu da haftaya ulasmak icin"
   ]
  },
  {
   "cell_type": "code",
   "execution_count": 14,
   "id": "bb287d9e",
   "metadata": {},
   "outputs": [
    {
     "data": {
      "text/plain": [
       "'Wed Apr  6 00:00:00 2022'"
      ]
     },
     "execution_count": 14,
     "metadata": {},
     "output_type": "execute_result"
    }
   ],
   "source": [
    "date.ctime(bugün)\n",
    "#bu da ayrintilisi icin"
   ]
  },
  {
   "cell_type": "code",
   "execution_count": 15,
   "id": "d79d2e7b",
   "metadata": {},
   "outputs": [],
   "source": [
    "from datetime import time"
   ]
  },
  {
   "cell_type": "code",
   "execution_count": 17,
   "id": "e10015d6",
   "metadata": {},
   "outputs": [
    {
     "name": "stdout",
     "output_type": "stream",
     "text": [
      "21:15:05\n"
     ]
    }
   ],
   "source": [
    "zaman = time(21,15,5)\n",
    "print(zaman)"
   ]
  },
  {
   "cell_type": "code",
   "execution_count": 18,
   "id": "23493220",
   "metadata": {},
   "outputs": [
    {
     "data": {
      "text/plain": [
       "21"
      ]
     },
     "execution_count": 18,
     "metadata": {},
     "output_type": "execute_result"
    }
   ],
   "source": [
    "zaman.hour"
   ]
  },
  {
   "cell_type": "code",
   "execution_count": 19,
   "id": "b8966b30",
   "metadata": {},
   "outputs": [
    {
     "data": {
      "text/plain": [
       "15"
      ]
     },
     "execution_count": 19,
     "metadata": {},
     "output_type": "execute_result"
    }
   ],
   "source": [
    "zaman.minute"
   ]
  },
  {
   "cell_type": "code",
   "execution_count": 20,
   "id": "b2da7f87",
   "metadata": {},
   "outputs": [
    {
     "data": {
      "text/plain": [
       "5"
      ]
     },
     "execution_count": 20,
     "metadata": {},
     "output_type": "execute_result"
    }
   ],
   "source": [
    "zaman.second"
   ]
  },
  {
   "cell_type": "code",
   "execution_count": 21,
   "id": "46c19c17",
   "metadata": {},
   "outputs": [
    {
     "name": "stdout",
     "output_type": "stream",
     "text": [
      "2022-10-21 11:05:03\n"
     ]
    }
   ],
   "source": [
    "dt = datetime.datetime(2022,10,21,11,5,3)\n",
    "print(dt)"
   ]
  },
  {
   "cell_type": "code",
   "execution_count": 22,
   "id": "1a765a80",
   "metadata": {},
   "outputs": [],
   "source": [
    "import time"
   ]
  },
  {
   "cell_type": "code",
   "execution_count": 23,
   "id": "2c774fa5",
   "metadata": {},
   "outputs": [
    {
     "data": {
      "text/plain": [
       "1649198566.7356603"
      ]
     },
     "execution_count": 23,
     "metadata": {},
     "output_type": "execute_result"
    }
   ],
   "source": [
    "#su ani zaman cinsinden bastirabiliriz\n",
    "time.time()"
   ]
  },
  {
   "cell_type": "code",
   "execution_count": null,
   "id": "af5d2aeb",
   "metadata": {},
   "outputs": [],
   "source": []
  }
 ],
 "metadata": {
  "kernelspec": {
   "display_name": "Python 3 (ipykernel)",
   "language": "python",
   "name": "python3"
  },
  "language_info": {
   "codemirror_mode": {
    "name": "ipython",
    "version": 3
   },
   "file_extension": ".py",
   "mimetype": "text/x-python",
   "name": "python",
   "nbconvert_exporter": "python",
   "pygments_lexer": "ipython3",
   "version": "3.9.7"
  }
 },
 "nbformat": 4,
 "nbformat_minor": 5
}
