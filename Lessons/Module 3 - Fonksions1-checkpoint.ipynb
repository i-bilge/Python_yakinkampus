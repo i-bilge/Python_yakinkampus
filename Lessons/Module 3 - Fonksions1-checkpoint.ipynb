{
 "cells": [
  {
   "cell_type": "code",
   "execution_count": 3,
   "id": "bf592f5b",
   "metadata": {},
   "outputs": [],
   "source": [
    "def sayi_dondur(sayi):\n",
    "    return sayi"
   ]
  },
  {
   "cell_type": "code",
   "execution_count": 4,
   "id": "6b73e5ac",
   "metadata": {},
   "outputs": [
    {
     "data": {
      "text/plain": [
       "10"
      ]
     },
     "execution_count": 4,
     "metadata": {},
     "output_type": "execute_result"
    }
   ],
   "source": [
    "sayi_dondur(10)"
   ]
  },
  {
   "cell_type": "code",
   "execution_count": 6,
   "id": "72c962da",
   "metadata": {},
   "outputs": [],
   "source": [
    "def sayi_dondur(sayi=250):\n",
    "    return sayi"
   ]
  },
  {
   "cell_type": "code",
   "execution_count": 7,
   "id": "d3e2847a",
   "metadata": {},
   "outputs": [
    {
     "data": {
      "text/plain": [
       "250"
      ]
     },
     "execution_count": 7,
     "metadata": {},
     "output_type": "execute_result"
    }
   ],
   "source": [
    "sayi_dondur()"
   ]
  },
  {
   "cell_type": "code",
   "execution_count": 8,
   "id": "0fa6f70e",
   "metadata": {},
   "outputs": [],
   "source": [
    "def buyuk_sayi_dondur(a,b):\n",
    "    if a>b:\n",
    "        return a\n",
    "    elif b>a:\n",
    "        return b"
   ]
  },
  {
   "cell_type": "code",
   "execution_count": 9,
   "id": "79e167aa",
   "metadata": {},
   "outputs": [
    {
     "data": {
      "text/plain": [
       "18"
      ]
     },
     "execution_count": 9,
     "metadata": {},
     "output_type": "execute_result"
    }
   ],
   "source": [
    "buyuk_sayi_dondur(10,18)"
   ]
  },
  {
   "cell_type": "code",
   "execution_count": 10,
   "id": "24c27576",
   "metadata": {},
   "outputs": [],
   "source": [
    "def metin_yazdir(a,b):\n",
    "    buyuk_sayi = buyuk_sayi_dondur(a,b)\n",
    "    sablon_metin = \"{} daha büyük sayidir.\".format(buyuk_sayi)\n",
    "    print(sablon_metin)"
   ]
  },
  {
   "cell_type": "code",
   "execution_count": 11,
   "id": "072a7d0c",
   "metadata": {},
   "outputs": [
    {
     "name": "stdout",
     "output_type": "stream",
     "text": [
      "10 daha büyük sayidir.\n"
     ]
    }
   ],
   "source": [
    "metin_yazdir(1,10)"
   ]
  },
  {
   "cell_type": "code",
   "execution_count": 12,
   "id": "260f0643",
   "metadata": {},
   "outputs": [
    {
     "data": {
      "text/plain": [
       "['Gökce', 'Gün']"
      ]
     },
     "execution_count": 12,
     "metadata": {},
     "output_type": "execute_result"
    }
   ],
   "source": [
    "\"Gökce Gün\".split()"
   ]
  },
  {
   "cell_type": "code",
   "execution_count": 17,
   "id": "3c337082",
   "metadata": {},
   "outputs": [],
   "source": [
    "def isim_soyisim_ayirma(isim_soyisim):\n",
    "    isim = isim_soyisim.split()[0]\n",
    "    soyisim = isim_soyisim.split()[1]\n",
    "    return isim, soyisim"
   ]
  },
  {
   "cell_type": "code",
   "execution_count": 18,
   "id": "e42738af",
   "metadata": {},
   "outputs": [
    {
     "data": {
      "text/plain": [
       "('Gökce', 'Gün')"
      ]
     },
     "execution_count": 18,
     "metadata": {},
     "output_type": "execute_result"
    }
   ],
   "source": [
    "isim_soyisim_ayirma(\"Gökce Gün\")"
   ]
  },
  {
   "cell_type": "code",
   "execution_count": 19,
   "id": "5674d0f3",
   "metadata": {},
   "outputs": [
    {
     "data": {
      "text/plain": [
       "'Gökce Gün'"
      ]
     },
     "execution_count": 19,
     "metadata": {},
     "output_type": "execute_result"
    }
   ],
   "source": [
    "\" \".join([\"Gökce\", \"Gün\"])"
   ]
  },
  {
   "cell_type": "code",
   "execution_count": 20,
   "id": "3a8cbfcb",
   "metadata": {},
   "outputs": [],
   "source": [
    "def isim_soyisim_birlestir(isim, soyisim):\n",
    "    return \" \".join([isim, soyisim])"
   ]
  },
  {
   "cell_type": "code",
   "execution_count": 21,
   "id": "56305995",
   "metadata": {},
   "outputs": [
    {
     "data": {
      "text/plain": [
       "'Osman Kaplan'"
      ]
     },
     "execution_count": 21,
     "metadata": {},
     "output_type": "execute_result"
    }
   ],
   "source": [
    "isim_soyisim_birlestir(\"Osman\", \"Kaplan\")"
   ]
  },
  {
   "cell_type": "code",
   "execution_count": 22,
   "id": "3c55a7b4",
   "metadata": {},
   "outputs": [],
   "source": [
    "#ama 3 ismi olan birisi girdi yaparsa Error verir. burada args devreye girer.\n",
    "def isim_soyisim_birlestir(*args):\n",
    "    return \" \".join(args)\n",
    "#Burada args bir listeye referans verir"
   ]
  },
  {
   "cell_type": "code",
   "execution_count": 23,
   "id": "95a54148",
   "metadata": {},
   "outputs": [
    {
     "data": {
      "text/plain": [
       "'Hamza Soner Yerlikaya'"
      ]
     },
     "execution_count": 23,
     "metadata": {},
     "output_type": "execute_result"
    }
   ],
   "source": [
    "isim_soyisim_birlestir(\"Hamza\", \"Soner\", \"Yerlikaya\")"
   ]
  },
  {
   "cell_type": "code",
   "execution_count": 27,
   "id": "c8d82fe1",
   "metadata": {},
   "outputs": [
    {
     "name": "stdout",
     "output_type": "stream",
     "text": [
      "Soner\n",
      "Göbekadi yok\n"
     ]
    }
   ],
   "source": [
    "#Bir de **kwargs (key words argumants)var. Bu da Dictionary listesi olusturur\n",
    "def gobek_adi_yazdir(**kwargs):\n",
    "    if 'gobekadi' in kwargs:\n",
    "        print(kwargs['gobekadi'])\n",
    "    else:\n",
    "        print(\"Göbekadi yok\")\n",
    "        \n",
    "\n",
    "gobek_adi_yazdir(adi=\"Hamza\", gobekadi=\"Soner\", soyadi=\"Yerlikaya\")\n",
    "gobek_adi_yazdir(adi=\"Yasin\", soyadi=\"Akbas\")"
   ]
  },
  {
   "cell_type": "code",
   "execution_count": 28,
   "id": "d82cff3f",
   "metadata": {},
   "outputs": [],
   "source": [
    "def karesini_al(x):\n",
    "    return x**2"
   ]
  },
  {
   "cell_type": "code",
   "execution_count": 29,
   "id": "b8eaaf14",
   "metadata": {},
   "outputs": [
    {
     "data": {
      "text/plain": [
       "25"
      ]
     },
     "execution_count": 29,
     "metadata": {},
     "output_type": "execute_result"
    }
   ],
   "source": [
    "karesini_al(5)"
   ]
  },
  {
   "cell_type": "code",
   "execution_count": 31,
   "id": "392c1b65",
   "metadata": {},
   "outputs": [
    {
     "data": {
      "text/plain": [
       "[1, 2, 3, 4, 5]"
      ]
     },
     "execution_count": 31,
     "metadata": {},
     "output_type": "execute_result"
    }
   ],
   "source": [
    "sayilar = [*range(1,6)]\n",
    "sayilar"
   ]
  },
  {
   "cell_type": "code",
   "execution_count": 35,
   "id": "591baa6f",
   "metadata": {},
   "outputs": [
    {
     "name": "stdout",
     "output_type": "stream",
     "text": [
      "[1, 2, 3, 4, 5]\n",
      "[1, 4, 9, 16, 25]\n"
     ]
    }
   ],
   "source": [
    "sayilar = [*range(1,6)]\n",
    "print(sayilar)\n",
    "\n",
    "for index in range(len(sayilar)):\n",
    "    sayilar[index] = karesini_al(sayilar[index])\n",
    "print(sayilar)"
   ]
  },
  {
   "cell_type": "code",
   "execution_count": 37,
   "id": "6167aa23",
   "metadata": {},
   "outputs": [
    {
     "data": {
      "text/plain": [
       "[1, 4, 9, 16, 25]"
      ]
     },
     "execution_count": 37,
     "metadata": {},
     "output_type": "execute_result"
    }
   ],
   "source": [
    "#map fonksyonu da herhangi bir fonksyonu(z.B karesini_al) bütün elemanlara uygular\n",
    "sayilar = [*range(1,6)]\n",
    "[*map(karesini_al, sayilar)]\n",
    "#Broadcast de([*...]) listesini al(list()) demek."
   ]
  },
  {
   "cell_type": "code",
   "execution_count": 38,
   "id": "36887df0",
   "metadata": {},
   "outputs": [],
   "source": [
    "#filter de; her elemana degil de belirlenen sarti saglayanlara uygular\n",
    "def cift_sayilari_filtrele(x):\n",
    "    if x%2==0:\n",
    "        return x\n",
    "    else:\n",
    "        return None"
   ]
  },
  {
   "cell_type": "code",
   "execution_count": 40,
   "id": "662a3270",
   "metadata": {},
   "outputs": [
    {
     "data": {
      "text/plain": [
       "[2, 4]"
      ]
     },
     "execution_count": 40,
     "metadata": {},
     "output_type": "execute_result"
    }
   ],
   "source": [
    "sayilar = [*range(1,6)]\n",
    "[*filter(cift_sayilari_filtrele, sayilar)]"
   ]
  },
  {
   "cell_type": "code",
   "execution_count": 41,
   "id": "3562f981",
   "metadata": {},
   "outputs": [
    {
     "data": {
      "text/plain": [
       "[1, 4, 9, 16, 25]"
      ]
     },
     "execution_count": 41,
     "metadata": {},
     "output_type": "execute_result"
    }
   ],
   "source": [
    "#map ve filter Fonksyonlarinda önceden bir fonksyon olusturup onu cagiriyorum\n",
    "#lambda ise Fonksyonu yol üstünde hazirlamami sagliyor\n",
    "sayilar = [*range(1,6)]\n",
    "[*map(lambda sayi: sayi**2, sayilar)]"
   ]
  },
  {
   "cell_type": "code",
   "execution_count": 44,
   "id": "a23953e6",
   "metadata": {},
   "outputs": [
    {
     "data": {
      "text/plain": [
       "[2, 4]"
      ]
     },
     "execution_count": 44,
     "metadata": {},
     "output_type": "execute_result"
    }
   ],
   "source": [
    "sayilar = [*range(1,6)]\n",
    "list(filter(lambda x: x if x%2==0 else None, sayilar))"
   ]
  },
  {
   "cell_type": "code",
   "execution_count": null,
   "id": "f4fe9399",
   "metadata": {},
   "outputs": [],
   "source": []
  }
 ],
 "metadata": {
  "kernelspec": {
   "display_name": "Python 3 (ipykernel)",
   "language": "python",
   "name": "python3"
  },
  "language_info": {
   "codemirror_mode": {
    "name": "ipython",
    "version": 3
   },
   "file_extension": ".py",
   "mimetype": "text/x-python",
   "name": "python",
   "nbconvert_exporter": "python",
   "pygments_lexer": "ipython3",
   "version": "3.9.7"
  }
 },
 "nbformat": 4,
 "nbformat_minor": 5
}
